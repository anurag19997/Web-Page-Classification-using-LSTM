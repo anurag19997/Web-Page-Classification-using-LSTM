{
 "cells": [
  {
   "cell_type": "code",
   "execution_count": 21,
   "metadata": {},
   "outputs": [],
   "source": [
    "import pandas as pd\n",
    "import numpy as np\n",
    "import matplotlib.pyplot as plt\n",
    "import seaborn as sb\n",
    "import re\n",
    "import nltk\n",
    "from sklearn.feature_extraction.text import CountVectorizer\n",
    "from sklearn.feature_extraction.text import TfidfTransformer\n",
    "from sklearn.pipeline import Pipeline\n",
    "from sklearn.naive_bayes import MultinomialNB\n",
    "from random import shuffle\n",
    "from sklearn.linear_model import SGDClassifier\n",
    "\n",
    "\n",
    "pd.set_option('display.max_colwidth', -1)"
   ]
  },
  {
   "cell_type": "code",
   "execution_count": 22,
   "metadata": {},
   "outputs": [],
   "source": [
    "train=pd.read_csv('train.csv')\n",
    "#train.set_index('Webpage_id',inplace=True)\n",
    "test=pd.read_csv('test_nvPHrOx.csv')\n",
    "#test.set_index('Webpage_id',inplace=True)\n",
    "submission=pd.read_csv('sample_submission_poy1UIu.csv')"
   ]
  },
  {
   "cell_type": "code",
   "execution_count": 23,
   "metadata": {},
   "outputs": [],
   "source": [
    "def preprocess(url):\n",
    "    \n",
    "    pattern=r'//.*'\n",
    "    urls=[]\n",
    "    for i in url:\n",
    "        b=re.findall(pattern,i)\n",
    "        c=b[0][2:]\n",
    "        d=re.split('\\.|/|-|_',c)\n",
    "        e=''\n",
    "        for i in d:\n",
    "            e+=str(i).lower()\n",
    "            e+=' '\n",
    "        e = ''.join([i for i in e if not i.isdigit()])\n",
    "        urls.append(e)\n",
    "        \n",
    "    count_vect = CountVectorizer()\n",
    "    X_train_counts = count_vect.fit_transform(urls)\n",
    "    \n",
    "    tfidf_transformer = TfidfTransformer()\n",
    "    X_train_tfidf = tfidf_transformer.fit_transform(X_train_counts)\n",
    "\n",
    "    \n",
    "    \n",
    "    \n",
    "    return(urls)"
   ]
  },
  {
   "cell_type": "code",
   "execution_count": 24,
   "metadata": {},
   "outputs": [],
   "source": [
    "def train_val_split(train):\n",
    "    grp=train.groupby('Tag')\n",
    "    \n",
    "    test_set=[]\n",
    "    train_set=[]\n",
    "    test_tag_set=[]\n",
    "    train_tag_set=[]\n",
    "    count=0\n",
    "    for unique_tags in train.Tag.unique():\n",
    "        tag=grp.get_group(unique_tags)\n",
    "        s=set(tag.Domain)\n",
    "        count+=len(s)\n",
    "        a=list(s)\n",
    "        #shuffle(a)\n",
    "        for i in range(len(a)):\n",
    "            if (i+1)%3==0:\n",
    "                test_set.append(a[i])\n",
    "                test_tag_set.append(unique_tags)\n",
    "            else:\n",
    "                train_set.append(a[i])\n",
    "                train_tag_set.append(unique_tags)\n",
    "    \n",
    "    \n",
    "    train_domain=pd.DataFrame(train_set)\n",
    "    train_domain.columns=['Domain']\n",
    "    train_domain['Tag']=train_tag_set\n",
    "    train_data=pd.merge(train_domain,train,on=['Domain','Tag'],how='left')\n",
    "    \n",
    "    val_domain=pd.DataFrame(test_set)\n",
    "    val_domain.columns=['Domain']\n",
    "    val_domain['Tag']=test_tag_set\n",
    "    val_data=pd.merge(val_domain,train,on=['Domain','Tag'],how='left')\n",
    "    \n",
    "    return(train_data,val_data)\n",
    "    "
   ]
  },
  {
   "cell_type": "code",
   "execution_count": 25,
   "metadata": {},
   "outputs": [],
   "source": [
    "train_data,val_data=train_val_split(train)"
   ]
  },
  {
   "cell_type": "code",
   "execution_count": 26,
   "metadata": {},
   "outputs": [],
   "source": [
    "train_url=preprocess(train_data.Url)\n",
    "train_target=train_data.Tag.values"
   ]
  },
  {
   "cell_type": "code",
   "execution_count": 27,
   "metadata": {},
   "outputs": [],
   "source": [
    "val_url=preprocess(val_data.Url)\n",
    "#val_data.drop('Tag',axis=1,inplace=True)\n",
    "val_target=val_data.Tag.values"
   ]
  },
  {
   "cell_type": "code",
   "execution_count": null,
   "metadata": {},
   "outputs": [],
   "source": []
  },
  {
   "cell_type": "code",
   "execution_count": null,
   "metadata": {},
   "outputs": [],
   "source": []
  },
  {
   "cell_type": "code",
   "execution_count": null,
   "metadata": {},
   "outputs": [],
   "source": []
  },
  {
   "cell_type": "code",
   "execution_count": null,
   "metadata": {},
   "outputs": [],
   "source": []
  },
  {
   "cell_type": "markdown",
   "metadata": {},
   "source": [
    "# MultinomialNB"
   ]
  },
  {
   "cell_type": "code",
   "execution_count": null,
   "metadata": {},
   "outputs": [],
   "source": [
    "text_clf = Pipeline([('vect', CountVectorizer()), ('tfidf', TfidfTransformer()), ('clf', MultinomialNB())])\n",
    "text_clf = text_clf.fit(train_url, train_target)"
   ]
  },
  {
   "cell_type": "code",
   "execution_count": 17,
   "metadata": {},
   "outputs": [
    {
     "name": "stdout",
     "output_type": "stream",
     "text": [
      "train_score\n",
      "0.9314739053516143\n",
      "val_score\n"
     ]
    },
    {
     "data": {
      "text/plain": [
       "0.5986335475652829"
      ]
     },
     "execution_count": 17,
     "metadata": {},
     "output_type": "execute_result"
    }
   ],
   "source": [
    "predicted = text_clf.predict(train_url)\n",
    "print('train_score')\n",
    "print(np.mean(predicted == train_target))\n",
    "\n",
    "predicted = text_clf.predict(val_url)\n",
    "print('val_score')\n",
    "np.mean(predicted == val_target)"
   ]
  },
  {
   "cell_type": "markdown",
   "metadata": {},
   "source": [
    "# SVM"
   ]
  },
  {
   "cell_type": "code",
   "execution_count": 28,
   "metadata": {},
   "outputs": [
    {
     "name": "stderr",
     "output_type": "stream",
     "text": [
      "C:\\Users\\Nishant\\Anaconda3\\lib\\site-packages\\sklearn\\linear_model\\stochastic_gradient.py:117: DeprecationWarning: n_iter parameter is deprecated in 0.19 and will be removed in 0.21. Use max_iter and tol instead.\n",
      "  DeprecationWarning)\n"
     ]
    }
   ],
   "source": [
    "text_clf_svm = Pipeline([('vect', CountVectorizer()), ('tfidf', TfidfTransformer()),\n",
    "                         ('clf-svm', SGDClassifier(loss='hinge', penalty='l2',alpha=1e-3, n_iter=5, random_state=42))])\n",
    "\n",
    "text_clf_svm = text_clf_svm.fit(train_url, train_target)\n"
   ]
  },
  {
   "cell_type": "code",
   "execution_count": 29,
   "metadata": {},
   "outputs": [
    {
     "name": "stdout",
     "output_type": "stream",
     "text": [
      "train_score\n",
      "0.91187527642636\n",
      "val_score\n"
     ]
    },
    {
     "data": {
      "text/plain": [
       "0.7115974755370273"
      ]
     },
     "execution_count": 29,
     "metadata": {},
     "output_type": "execute_result"
    }
   ],
   "source": [
    "predicted = text_clf_svm.predict(train_url)\n",
    "print('train_score')\n",
    "print(np.mean(predicted == train_target))\n",
    "\n",
    "predicted = text_clf_svm.predict(val_url)\n",
    "print('val_score')\n",
    "np.mean(predicted == val_target)"
   ]
  },
  {
   "cell_type": "code",
   "execution_count": null,
   "metadata": {},
   "outputs": [],
   "source": [
    "train_score\n",
    "0.9127874834144184\n",
    "val_score\n",
    "0.6868739505529501"
   ]
  }
 ],
 "metadata": {
  "kernelspec": {
   "display_name": "Python 3",
   "language": "python",
   "name": "python3"
  },
  "language_info": {
   "codemirror_mode": {
    "name": "ipython",
    "version": 3
   },
   "file_extension": ".py",
   "mimetype": "text/x-python",
   "name": "python",
   "nbconvert_exporter": "python",
   "pygments_lexer": "ipython3",
   "version": "3.7.0"
  }
 },
 "nbformat": 4,
 "nbformat_minor": 2
}
