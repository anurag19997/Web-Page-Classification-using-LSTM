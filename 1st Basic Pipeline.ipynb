{
 "cells": [
  {
   "cell_type": "code",
   "execution_count": 205,
   "metadata": {},
   "outputs": [],
   "source": [
    "import pandas as pd\n",
    "import numpy as np\n",
    "import matplotlib.pyplot as plt\n",
    "import seaborn as sb\n",
    "import re\n",
    "import nltk\n",
    "from sklearn.feature_extraction.text import CountVectorizer\n",
    "from sklearn.feature_extraction.text import TfidfTransformer\n",
    "from sklearn.pipeline import Pipeline\n",
    "from sklearn.naive_bayes import MultinomialNB\n",
    "from random import shuffle\n",
    "\n",
    "\n",
    "pd.set_option('display.max_colwidth', -1)"
   ]
  },
  {
   "cell_type": "code",
   "execution_count": 288,
   "metadata": {},
   "outputs": [],
   "source": [
    "train=pd.read_csv('train.csv')\n",
    "#train.set_index('Webpage_id',inplace=True)\n",
    "test=pd.read_csv('test_nvPHrOx.csv')\n",
    "#test.set_index('Webpage_id',inplace=True)\n",
    "submission=pd.read_csv('sample_submission_poy1UIu.csv')"
   ]
  },
  {
   "cell_type": "code",
   "execution_count": 207,
   "metadata": {},
   "outputs": [
    {
     "name": "stdout",
     "output_type": "stream",
     "text": [
      "<class 'pandas.core.frame.DataFrame'>\n",
      "Int64Index: 53447 entries, 1 to 79345\n",
      "Data columns (total 3 columns):\n",
      "Domain    53447 non-null object\n",
      "Url       53447 non-null object\n",
      "Tag       53447 non-null object\n",
      "dtypes: object(3)\n",
      "memory usage: 1.6+ MB\n"
     ]
    }
   ],
   "source": [
    "train.info()"
   ]
  },
  {
   "cell_type": "code",
   "execution_count": 113,
   "metadata": {},
   "outputs": [
    {
     "data": {
      "text/html": [
       "<div>\n",
       "<style scoped>\n",
       "    .dataframe tbody tr th:only-of-type {\n",
       "        vertical-align: middle;\n",
       "    }\n",
       "\n",
       "    .dataframe tbody tr th {\n",
       "        vertical-align: top;\n",
       "    }\n",
       "\n",
       "    .dataframe thead th {\n",
       "        text-align: right;\n",
       "    }\n",
       "</style>\n",
       "<table border=\"1\" class=\"dataframe\">\n",
       "  <thead>\n",
       "    <tr style=\"text-align: right;\">\n",
       "      <th></th>\n",
       "      <th>Webpage_id</th>\n",
       "      <th>Domain</th>\n",
       "      <th>Url</th>\n",
       "      <th>Tag</th>\n",
       "    </tr>\n",
       "  </thead>\n",
       "  <tbody>\n",
       "    <tr>\n",
       "      <th>0</th>\n",
       "      <td>1</td>\n",
       "      <td>www.fiercepharma.com</td>\n",
       "      <td>http://www.fiercepharma.com/marketing/tecfidera-gilenya-and-aubagio-s-3-way-battle-for-ms-share-about-to-get-more-interesting</td>\n",
       "      <td>news</td>\n",
       "    </tr>\n",
       "    <tr>\n",
       "      <th>1</th>\n",
       "      <td>2</td>\n",
       "      <td>www.fiercepharma.com</td>\n",
       "      <td>http://www.fiercepharma.com/pharma/novo-equipped-to-weather-storm-u-s-diabetes-market-ceo-says</td>\n",
       "      <td>news</td>\n",
       "    </tr>\n",
       "    <tr>\n",
       "      <th>2</th>\n",
       "      <td>3</td>\n",
       "      <td>www.fiercepharma.com</td>\n",
       "      <td>http://www.fiercepharma.com/pharma/another-exec-departs-troubled-endo-and-time-it-s-for-another-drugmaker</td>\n",
       "      <td>news</td>\n",
       "    </tr>\n",
       "    <tr>\n",
       "      <th>3</th>\n",
       "      <td>4</td>\n",
       "      <td>www.fiercepharma.com</td>\n",
       "      <td>http://www.fiercepharma.com/pharma/teva-buy-biosim-specialist-celltrion-it-wouldn-t-say-no</td>\n",
       "      <td>news</td>\n",
       "    </tr>\n",
       "    <tr>\n",
       "      <th>4</th>\n",
       "      <td>5</td>\n",
       "      <td>www.fiercepharma.com</td>\n",
       "      <td>http://www.fiercepharma.com/marketing/actress-marissa-tomei-partners-allergan-restasis-to-drive-dry-eye-awareness</td>\n",
       "      <td>news</td>\n",
       "    </tr>\n",
       "    <tr>\n",
       "      <th>5</th>\n",
       "      <td>6</td>\n",
       "      <td>www.fiercepharma.com</td>\n",
       "      <td>http://www.fiercepharma.com/pharma/celgene-s-otezla-wins-nice-draft-backing-psoriatic-arthritis</td>\n",
       "      <td>news</td>\n",
       "    </tr>\n",
       "    <tr>\n",
       "      <th>6</th>\n",
       "      <td>7</td>\n",
       "      <td>www.fiercepharma.com</td>\n",
       "      <td>http://www.fiercepharma.com/pharma/mylan-takes-punching-bag-role-again-as-clinton-aims-to-shame-bad-actors</td>\n",
       "      <td>news</td>\n",
       "    </tr>\n",
       "    <tr>\n",
       "      <th>7</th>\n",
       "      <td>8</td>\n",
       "      <td>www.fiercepharma.com</td>\n",
       "      <td>http://www.fiercepharma.com/marketing/failed-eylea-combo-trial-throws-a-wrench-regeneron-s-expansion-effort</td>\n",
       "      <td>news</td>\n",
       "    </tr>\n",
       "    <tr>\n",
       "      <th>8</th>\n",
       "      <td>9</td>\n",
       "      <td>www.fiercepharma.com</td>\n",
       "      <td>http://www.fiercepharma.com/pharma/should-gsk-investors-be-disgruntled-about-its-insider-ceo-pick-if-they-want-big-changes-yes</td>\n",
       "      <td>news</td>\n",
       "    </tr>\n",
       "    <tr>\n",
       "      <th>9</th>\n",
       "      <td>10</td>\n",
       "      <td>www.fiercepharma.com</td>\n",
       "      <td>http://www.fiercepharma.com/pharma/drug-pricing-uproar-could-grow-competition-gpha-head-says</td>\n",
       "      <td>news</td>\n",
       "    </tr>\n",
       "    <tr>\n",
       "      <th>10</th>\n",
       "      <td>11</td>\n",
       "      <td>www.fiercepharma.com</td>\n",
       "      <td>http://www.fiercepharma.com/pharma/fda-skepticism-greets-pfizer-s-latest-bid-to-escape-chantix-black-box</td>\n",
       "      <td>news</td>\n",
       "    </tr>\n",
       "    <tr>\n",
       "      <th>11</th>\n",
       "      <td>12</td>\n",
       "      <td>www.fiercepharma.com</td>\n",
       "      <td>http://www.fiercepharma.com/marketing/allergan-s-vraylar-needs-negative-success-to-stand-out-analyst</td>\n",
       "      <td>news</td>\n",
       "    </tr>\n",
       "    <tr>\n",
       "      <th>12</th>\n",
       "      <td>13</td>\n",
       "      <td>www.fiercepharma.com</td>\n",
       "      <td>http://www.fiercepharma.com/pharma/how-to-combat-pharma-s-price-hike-scandals-for-bio-it-s-ad-showing-drugs-save-medical-costs</td>\n",
       "      <td>news</td>\n",
       "    </tr>\n",
       "    <tr>\n",
       "      <th>13</th>\n",
       "      <td>14</td>\n",
       "      <td>www.fiercepharma.com</td>\n",
       "      <td>http://www.fiercepharma.com/marketing/free-epipens-mylan-s-distributor-explains-epipen4schools-program</td>\n",
       "      <td>news</td>\n",
       "    </tr>\n",
       "    <tr>\n",
       "      <th>14</th>\n",
       "      <td>15</td>\n",
       "      <td>www.fiercepharma.com</td>\n",
       "      <td>http://www.fiercepharma.com/pharma/valeant-brings-zoetis-warner-chilcott-vet-as-new-cfo</td>\n",
       "      <td>news</td>\n",
       "    </tr>\n",
       "    <tr>\n",
       "      <th>15</th>\n",
       "      <td>16</td>\n",
       "      <td>www.fiercepharma.com</td>\n",
       "      <td>http://www.fiercepharma.com/pharma/valeant-tweaks-exec-ranks-again-as-it-looks-for-its-footing</td>\n",
       "      <td>news</td>\n",
       "    </tr>\n",
       "    <tr>\n",
       "      <th>16</th>\n",
       "      <td>17</td>\n",
       "      <td>www.fiercepharma.com</td>\n",
       "      <td>http://www.fiercepharma.com/marketing/hefty-orkambi-commercial-spend-helps-vertex-pick-up-growth-pace</td>\n",
       "      <td>news</td>\n",
       "    </tr>\n",
       "    <tr>\n",
       "      <th>17</th>\n",
       "      <td>18</td>\n",
       "      <td>www.fiercepharma.com</td>\n",
       "      <td>http://www.fiercepharma.com/marketing/sunshine-finally-reaches-europe-disclosure-pharma-payments-to-docs-now-available</td>\n",
       "      <td>news</td>\n",
       "    </tr>\n",
       "    <tr>\n",
       "      <th>18</th>\n",
       "      <td>19</td>\n",
       "      <td>www.fiercepharma.com</td>\n",
       "      <td>http://www.fiercepharma.com/pharma/az-frustrated-tagrisso-nice-delay-calls-for-reform</td>\n",
       "      <td>news</td>\n",
       "    </tr>\n",
       "    <tr>\n",
       "      <th>19</th>\n",
       "      <td>20</td>\n",
       "      <td>www.fiercepharma.com</td>\n",
       "      <td>http://www.fiercepharma.com/pharma/biogen-ceo-scangos-stepping-down-raising-questions-about-biotech-s-future</td>\n",
       "      <td>news</td>\n",
       "    </tr>\n",
       "    <tr>\n",
       "      <th>20</th>\n",
       "      <td>21</td>\n",
       "      <td>www.fiercepharma.com</td>\n",
       "      <td>http://www.fiercepharma.com/pharma/nhs-funds-mostly-spent-chronic-conditions-not-specialty-meds</td>\n",
       "      <td>news</td>\n",
       "    </tr>\n",
       "    <tr>\n",
       "      <th>21</th>\n",
       "      <td>22</td>\n",
       "      <td>www.fiercepharma.com</td>\n",
       "      <td>http://www.fiercepharma.com/marketing/value-based-care-necessitates-big-changes-for-pharma-marketers-says-digital-pharma-agency</td>\n",
       "      <td>news</td>\n",
       "    </tr>\n",
       "    <tr>\n",
       "      <th>22</th>\n",
       "      <td>23</td>\n",
       "      <td>www.fiercepharma.com</td>\n",
       "      <td>http://www.fiercepharma.com/pharma/teva-expects-allergan-deal-close-any-day-it-says-amid-raised-guidance</td>\n",
       "      <td>news</td>\n",
       "    </tr>\n",
       "    <tr>\n",
       "      <th>23</th>\n",
       "      <td>24</td>\n",
       "      <td>www.fiercepharma.com</td>\n",
       "      <td>http://www.fiercepharma.com/pharma/gilead-cut-u-s-tax-rate-even-as-u-s-sales-soared-report-says</td>\n",
       "      <td>news</td>\n",
       "    </tr>\n",
       "    <tr>\n",
       "      <th>24</th>\n",
       "      <td>25</td>\n",
       "      <td>www.fiercepharma.com</td>\n",
       "      <td>http://www.fiercepharma.com/marketing/rebates-bundling-to-keep-allergan-s-botox-growing-face-competition-specialists-say</td>\n",
       "      <td>news</td>\n",
       "    </tr>\n",
       "    <tr>\n",
       "      <th>25</th>\n",
       "      <td>26</td>\n",
       "      <td>www.fiercepharma.com</td>\n",
       "      <td>http://www.fiercepharma.com/marketing/allergan-s-stellar-viberzi-coverage-bodes-well-for-future-launches-analyst</td>\n",
       "      <td>news</td>\n",
       "    </tr>\n",
       "    <tr>\n",
       "      <th>26</th>\n",
       "      <td>27</td>\n",
       "      <td>www.fiercepharma.com</td>\n",
       "      <td>http://www.fiercepharma.com/pharma/reduce-cv-events-check-now-lilly-bi-s-jardiance-shows-it-can-cut-kidney-disease-risk-too</td>\n",
       "      <td>news</td>\n",
       "    </tr>\n",
       "    <tr>\n",
       "      <th>27</th>\n",
       "      <td>28</td>\n",
       "      <td>www.fiercepharma.com</td>\n",
       "      <td>http://www.fiercepharma.com/pharma/judge-nixes-merck-s-200m-hep-c-patent-win-citing-fabricated-testimony-pervasive-misconduct</td>\n",
       "      <td>news</td>\n",
       "    </tr>\n",
       "    <tr>\n",
       "      <th>28</th>\n",
       "      <td>29</td>\n",
       "      <td>www.fiercepharma.com</td>\n",
       "      <td>http://www.fiercepharma.com/pharma/pfizer-cancer-chief-touts-up-and-coming-portfolio-sees-pricing-advantage-immunotherapies</td>\n",
       "      <td>news</td>\n",
       "    </tr>\n",
       "    <tr>\n",
       "      <th>29</th>\n",
       "      <td>30</td>\n",
       "      <td>www.fiercepharma.com</td>\n",
       "      <td>http://www.fiercepharma.com/vaccines/merck-s-vax-sales-fail-to-see-same-growth-reported-by-gsk-pfizer-and-sanofi</td>\n",
       "      <td>news</td>\n",
       "    </tr>\n",
       "    <tr>\n",
       "      <th>...</th>\n",
       "      <td>...</td>\n",
       "      <td>...</td>\n",
       "      <td>...</td>\n",
       "      <td>...</td>\n",
       "    </tr>\n",
       "    <tr>\n",
       "      <th>70</th>\n",
       "      <td>119</td>\n",
       "      <td>www.chictr.org.cn</td>\n",
       "      <td>http://www.chictr.org.cn/showproj.aspx?proj=4461</td>\n",
       "      <td>clinicalTrials</td>\n",
       "    </tr>\n",
       "    <tr>\n",
       "      <th>71</th>\n",
       "      <td>122</td>\n",
       "      <td>www.chictr.org.cn</td>\n",
       "      <td>http://www.chictr.org.cn/showproj.aspx?proj=11965</td>\n",
       "      <td>clinicalTrials</td>\n",
       "    </tr>\n",
       "    <tr>\n",
       "      <th>72</th>\n",
       "      <td>123</td>\n",
       "      <td>www.chictr.org.cn</td>\n",
       "      <td>http://www.chictr.org.cn/showproj.aspx?proj=11987</td>\n",
       "      <td>clinicalTrials</td>\n",
       "    </tr>\n",
       "    <tr>\n",
       "      <th>73</th>\n",
       "      <td>124</td>\n",
       "      <td>www.chictr.org.cn</td>\n",
       "      <td>http://www.chictr.org.cn/showproj.aspx?proj=4480</td>\n",
       "      <td>clinicalTrials</td>\n",
       "    </tr>\n",
       "    <tr>\n",
       "      <th>74</th>\n",
       "      <td>127</td>\n",
       "      <td>www.australiancancertrials.gov.au</td>\n",
       "      <td>http://www.australiancancertrials.gov.au/search-clinical-trials/search-results/clinical-trials-details.aspx?TrialID=335187&amp;ds=1</td>\n",
       "      <td>clinicalTrials</td>\n",
       "    </tr>\n",
       "    <tr>\n",
       "      <th>75</th>\n",
       "      <td>136</td>\n",
       "      <td>www.anzctr.org.au</td>\n",
       "      <td>https://www.anzctr.org.au/Trial/Registration/TrialReview.aspx?ACTRN=12614001175662</td>\n",
       "      <td>clinicalTrials</td>\n",
       "    </tr>\n",
       "    <tr>\n",
       "      <th>76</th>\n",
       "      <td>137</td>\n",
       "      <td>www.anzctr.org.au</td>\n",
       "      <td>https://www.anzctr.org.au/Trial/Registration/TrialReview.aspx?ACTRN=12616000927426p</td>\n",
       "      <td>clinicalTrials</td>\n",
       "    </tr>\n",
       "    <tr>\n",
       "      <th>77</th>\n",
       "      <td>138</td>\n",
       "      <td>www.anzctr.org.au</td>\n",
       "      <td>https://www.anzctr.org.au/Trial/Registration/TrialReview.aspx?ACTRN=12616000791437</td>\n",
       "      <td>clinicalTrials</td>\n",
       "    </tr>\n",
       "    <tr>\n",
       "      <th>78</th>\n",
       "      <td>139</td>\n",
       "      <td>www.anzctr.org.au</td>\n",
       "      <td>https://www.anzctr.org.au/Trial/Registration/TrialReview.aspx?ACTRN=12616001395426</td>\n",
       "      <td>clinicalTrials</td>\n",
       "    </tr>\n",
       "    <tr>\n",
       "      <th>79</th>\n",
       "      <td>140</td>\n",
       "      <td>www.anzctr.org.au</td>\n",
       "      <td>https://www.anzctr.org.au/Trial/Registration/TrialReview.aspx?ACTRN=12612001292864</td>\n",
       "      <td>clinicalTrials</td>\n",
       "    </tr>\n",
       "    <tr>\n",
       "      <th>80</th>\n",
       "      <td>141</td>\n",
       "      <td>www.anzctr.org.au</td>\n",
       "      <td>https://www.anzctr.org.au/Trial/Registration/TrialReview.aspx?ACTRN=12614000807651</td>\n",
       "      <td>clinicalTrials</td>\n",
       "    </tr>\n",
       "    <tr>\n",
       "      <th>81</th>\n",
       "      <td>142</td>\n",
       "      <td>www.anzctr.org.au</td>\n",
       "      <td>https://www.anzctr.org.au/Trial/Registration/TrialReview.aspx?ACTRN=12611000594921</td>\n",
       "      <td>clinicalTrials</td>\n",
       "    </tr>\n",
       "    <tr>\n",
       "      <th>82</th>\n",
       "      <td>143</td>\n",
       "      <td>www.anzctr.org.au</td>\n",
       "      <td>https://www.anzctr.org.au/Trial/Registration/TrialReview.aspx?ACTRN=12616001695493p</td>\n",
       "      <td>clinicalTrials</td>\n",
       "    </tr>\n",
       "    <tr>\n",
       "      <th>83</th>\n",
       "      <td>144</td>\n",
       "      <td>www.anzctr.org.au</td>\n",
       "      <td>https://www.anzctr.org.au/Trial/Registration/TrialReview.aspx?ACTRN=12611001061921</td>\n",
       "      <td>clinicalTrials</td>\n",
       "    </tr>\n",
       "    <tr>\n",
       "      <th>84</th>\n",
       "      <td>145</td>\n",
       "      <td>www.anzctr.org.au</td>\n",
       "      <td>https://www.anzctr.org.au/Trial/Registration/TrialReview.aspx?ACTRN=12612000848808</td>\n",
       "      <td>clinicalTrials</td>\n",
       "    </tr>\n",
       "    <tr>\n",
       "      <th>85</th>\n",
       "      <td>146</td>\n",
       "      <td>www.anzctr.org.au</td>\n",
       "      <td>https://www.anzctr.org.au/Trial/Registration/TrialReview.aspx?ACTRN=12613000160730</td>\n",
       "      <td>clinicalTrials</td>\n",
       "    </tr>\n",
       "    <tr>\n",
       "      <th>86</th>\n",
       "      <td>147</td>\n",
       "      <td>www.anzctr.org.au</td>\n",
       "      <td>https://www.anzctr.org.au/Trial/Registration/TrialReview.aspx?ACTRN=12616000543482</td>\n",
       "      <td>clinicalTrials</td>\n",
       "    </tr>\n",
       "    <tr>\n",
       "      <th>87</th>\n",
       "      <td>148</td>\n",
       "      <td>www.anzctr.org.au</td>\n",
       "      <td>https://www.anzctr.org.au/Trial/Registration/TrialReview.aspx?ACTRN=12613000559718</td>\n",
       "      <td>clinicalTrials</td>\n",
       "    </tr>\n",
       "    <tr>\n",
       "      <th>88</th>\n",
       "      <td>149</td>\n",
       "      <td>www.anzctr.org.au</td>\n",
       "      <td>https://www.anzctr.org.au/Trial/Registration/TrialReview.aspx?ACTRN=12616000101482p</td>\n",
       "      <td>clinicalTrials</td>\n",
       "    </tr>\n",
       "    <tr>\n",
       "      <th>89</th>\n",
       "      <td>150</td>\n",
       "      <td>www.anzctr.org.au</td>\n",
       "      <td>https://www.anzctr.org.au/Trial/Registration/TrialReview.aspx?ACTRN=12612001207808</td>\n",
       "      <td>clinicalTrials</td>\n",
       "    </tr>\n",
       "    <tr>\n",
       "      <th>90</th>\n",
       "      <td>151</td>\n",
       "      <td>www.anzctr.org.au</td>\n",
       "      <td>https://www.anzctr.org.au/Trial/Registration/TrialReview.aspx?ACTRN=12611001155987</td>\n",
       "      <td>clinicalTrials</td>\n",
       "    </tr>\n",
       "    <tr>\n",
       "      <th>91</th>\n",
       "      <td>153</td>\n",
       "      <td>www.anzctr.org.au</td>\n",
       "      <td>https://www.anzctr.org.au/Trial/Registration/TrialReview.aspx?ACTRN=12614001200673</td>\n",
       "      <td>clinicalTrials</td>\n",
       "    </tr>\n",
       "    <tr>\n",
       "      <th>92</th>\n",
       "      <td>154</td>\n",
       "      <td>www.genengnews.com</td>\n",
       "      <td>http://www.genengnews.com/gen-news-highlights/bruker-acquires-invivo-biotech-services/81253647</td>\n",
       "      <td>news</td>\n",
       "    </tr>\n",
       "    <tr>\n",
       "      <th>93</th>\n",
       "      <td>155</td>\n",
       "      <td>www.genengnews.com</td>\n",
       "      <td>http://www.genengnews.com/gen-news-highlights/declutter-protein-helps-cells-avoid-parkinsons/81253624</td>\n",
       "      <td>news</td>\n",
       "    </tr>\n",
       "    <tr>\n",
       "      <th>94</th>\n",
       "      <td>156</td>\n",
       "      <td>www.genengnews.com</td>\n",
       "      <td>http://www.genengnews.com/gen-news-highlights/psioxus-bms-ink-50m-upfront-collaboration-to-develop-transgenic-oncolytic-virus/81253585</td>\n",
       "      <td>news</td>\n",
       "    </tr>\n",
       "    <tr>\n",
       "      <th>95</th>\n",
       "      <td>157</td>\n",
       "      <td>www.genengnews.com</td>\n",
       "      <td>http://www.genengnews.com/gen-news-highlights/scripps-florida-uses-precision-medicine-method-to-tackle-rna-diseases/81253542</td>\n",
       "      <td>news</td>\n",
       "    </tr>\n",
       "    <tr>\n",
       "      <th>96</th>\n",
       "      <td>158</td>\n",
       "      <td>www.genengnews.com</td>\n",
       "      <td>http://www.genengnews.com/gen-news-highlights/biomarker-predicts-fatal-leukemia-development-in-previously-treated-cancer-patients/81253500</td>\n",
       "      <td>news</td>\n",
       "    </tr>\n",
       "    <tr>\n",
       "      <th>97</th>\n",
       "      <td>159</td>\n",
       "      <td>www.genengnews.com</td>\n",
       "      <td>http://www.genengnews.com/gen-news-highlights/parker-institute-cri-partner-to-develop-cancer-immunotherapies/81253485</td>\n",
       "      <td>news</td>\n",
       "    </tr>\n",
       "    <tr>\n",
       "      <th>98</th>\n",
       "      <td>160</td>\n",
       "      <td>www.anzctr.org.au</td>\n",
       "      <td>https://www.anzctr.org.au/Trial/Registration/TrialReview.aspx?ACTRN=12615001065583</td>\n",
       "      <td>clinicalTrials</td>\n",
       "    </tr>\n",
       "    <tr>\n",
       "      <th>99</th>\n",
       "      <td>161</td>\n",
       "      <td>www.genengnews.com</td>\n",
       "      <td>http://www.genengnews.com/gen-news-highlights/bms-enterome-launch-microbiome-immuno-oncology-collaboration/81253438</td>\n",
       "      <td>news</td>\n",
       "    </tr>\n",
       "  </tbody>\n",
       "</table>\n",
       "<p>100 rows × 4 columns</p>\n",
       "</div>"
      ],
      "text/plain": [
       "    Webpage_id                             Domain  \\\n",
       "0   1           www.fiercepharma.com                \n",
       "1   2           www.fiercepharma.com                \n",
       "2   3           www.fiercepharma.com                \n",
       "3   4           www.fiercepharma.com                \n",
       "4   5           www.fiercepharma.com                \n",
       "5   6           www.fiercepharma.com                \n",
       "6   7           www.fiercepharma.com                \n",
       "7   8           www.fiercepharma.com                \n",
       "8   9           www.fiercepharma.com                \n",
       "9   10          www.fiercepharma.com                \n",
       "10  11          www.fiercepharma.com                \n",
       "11  12          www.fiercepharma.com                \n",
       "12  13          www.fiercepharma.com                \n",
       "13  14          www.fiercepharma.com                \n",
       "14  15          www.fiercepharma.com                \n",
       "15  16          www.fiercepharma.com                \n",
       "16  17          www.fiercepharma.com                \n",
       "17  18          www.fiercepharma.com                \n",
       "18  19          www.fiercepharma.com                \n",
       "19  20          www.fiercepharma.com                \n",
       "20  21          www.fiercepharma.com                \n",
       "21  22          www.fiercepharma.com                \n",
       "22  23          www.fiercepharma.com                \n",
       "23  24          www.fiercepharma.com                \n",
       "24  25          www.fiercepharma.com                \n",
       "25  26          www.fiercepharma.com                \n",
       "26  27          www.fiercepharma.com                \n",
       "27  28          www.fiercepharma.com                \n",
       "28  29          www.fiercepharma.com                \n",
       "29  30          www.fiercepharma.com                \n",
       "..  ..                           ...                \n",
       "70  119         www.chictr.org.cn                   \n",
       "71  122         www.chictr.org.cn                   \n",
       "72  123         www.chictr.org.cn                   \n",
       "73  124         www.chictr.org.cn                   \n",
       "74  127         www.australiancancertrials.gov.au   \n",
       "75  136         www.anzctr.org.au                   \n",
       "76  137         www.anzctr.org.au                   \n",
       "77  138         www.anzctr.org.au                   \n",
       "78  139         www.anzctr.org.au                   \n",
       "79  140         www.anzctr.org.au                   \n",
       "80  141         www.anzctr.org.au                   \n",
       "81  142         www.anzctr.org.au                   \n",
       "82  143         www.anzctr.org.au                   \n",
       "83  144         www.anzctr.org.au                   \n",
       "84  145         www.anzctr.org.au                   \n",
       "85  146         www.anzctr.org.au                   \n",
       "86  147         www.anzctr.org.au                   \n",
       "87  148         www.anzctr.org.au                   \n",
       "88  149         www.anzctr.org.au                   \n",
       "89  150         www.anzctr.org.au                   \n",
       "90  151         www.anzctr.org.au                   \n",
       "91  153         www.anzctr.org.au                   \n",
       "92  154         www.genengnews.com                  \n",
       "93  155         www.genengnews.com                  \n",
       "94  156         www.genengnews.com                  \n",
       "95  157         www.genengnews.com                  \n",
       "96  158         www.genengnews.com                  \n",
       "97  159         www.genengnews.com                  \n",
       "98  160         www.anzctr.org.au                   \n",
       "99  161         www.genengnews.com                  \n",
       "\n",
       "                                                                                                                                           Url  \\\n",
       "0   http://www.fiercepharma.com/marketing/tecfidera-gilenya-and-aubagio-s-3-way-battle-for-ms-share-about-to-get-more-interesting                \n",
       "1   http://www.fiercepharma.com/pharma/novo-equipped-to-weather-storm-u-s-diabetes-market-ceo-says                                               \n",
       "2   http://www.fiercepharma.com/pharma/another-exec-departs-troubled-endo-and-time-it-s-for-another-drugmaker                                    \n",
       "3   http://www.fiercepharma.com/pharma/teva-buy-biosim-specialist-celltrion-it-wouldn-t-say-no                                                   \n",
       "4   http://www.fiercepharma.com/marketing/actress-marissa-tomei-partners-allergan-restasis-to-drive-dry-eye-awareness                            \n",
       "5   http://www.fiercepharma.com/pharma/celgene-s-otezla-wins-nice-draft-backing-psoriatic-arthritis                                              \n",
       "6   http://www.fiercepharma.com/pharma/mylan-takes-punching-bag-role-again-as-clinton-aims-to-shame-bad-actors                                   \n",
       "7   http://www.fiercepharma.com/marketing/failed-eylea-combo-trial-throws-a-wrench-regeneron-s-expansion-effort                                  \n",
       "8   http://www.fiercepharma.com/pharma/should-gsk-investors-be-disgruntled-about-its-insider-ceo-pick-if-they-want-big-changes-yes               \n",
       "9   http://www.fiercepharma.com/pharma/drug-pricing-uproar-could-grow-competition-gpha-head-says                                                 \n",
       "10  http://www.fiercepharma.com/pharma/fda-skepticism-greets-pfizer-s-latest-bid-to-escape-chantix-black-box                                     \n",
       "11  http://www.fiercepharma.com/marketing/allergan-s-vraylar-needs-negative-success-to-stand-out-analyst                                         \n",
       "12  http://www.fiercepharma.com/pharma/how-to-combat-pharma-s-price-hike-scandals-for-bio-it-s-ad-showing-drugs-save-medical-costs               \n",
       "13  http://www.fiercepharma.com/marketing/free-epipens-mylan-s-distributor-explains-epipen4schools-program                                       \n",
       "14  http://www.fiercepharma.com/pharma/valeant-brings-zoetis-warner-chilcott-vet-as-new-cfo                                                      \n",
       "15  http://www.fiercepharma.com/pharma/valeant-tweaks-exec-ranks-again-as-it-looks-for-its-footing                                               \n",
       "16  http://www.fiercepharma.com/marketing/hefty-orkambi-commercial-spend-helps-vertex-pick-up-growth-pace                                        \n",
       "17  http://www.fiercepharma.com/marketing/sunshine-finally-reaches-europe-disclosure-pharma-payments-to-docs-now-available                       \n",
       "18  http://www.fiercepharma.com/pharma/az-frustrated-tagrisso-nice-delay-calls-for-reform                                                        \n",
       "19  http://www.fiercepharma.com/pharma/biogen-ceo-scangos-stepping-down-raising-questions-about-biotech-s-future                                 \n",
       "20  http://www.fiercepharma.com/pharma/nhs-funds-mostly-spent-chronic-conditions-not-specialty-meds                                              \n",
       "21  http://www.fiercepharma.com/marketing/value-based-care-necessitates-big-changes-for-pharma-marketers-says-digital-pharma-agency              \n",
       "22  http://www.fiercepharma.com/pharma/teva-expects-allergan-deal-close-any-day-it-says-amid-raised-guidance                                     \n",
       "23  http://www.fiercepharma.com/pharma/gilead-cut-u-s-tax-rate-even-as-u-s-sales-soared-report-says                                              \n",
       "24  http://www.fiercepharma.com/marketing/rebates-bundling-to-keep-allergan-s-botox-growing-face-competition-specialists-say                     \n",
       "25  http://www.fiercepharma.com/marketing/allergan-s-stellar-viberzi-coverage-bodes-well-for-future-launches-analyst                             \n",
       "26  http://www.fiercepharma.com/pharma/reduce-cv-events-check-now-lilly-bi-s-jardiance-shows-it-can-cut-kidney-disease-risk-too                  \n",
       "27  http://www.fiercepharma.com/pharma/judge-nixes-merck-s-200m-hep-c-patent-win-citing-fabricated-testimony-pervasive-misconduct                \n",
       "28  http://www.fiercepharma.com/pharma/pfizer-cancer-chief-touts-up-and-coming-portfolio-sees-pricing-advantage-immunotherapies                  \n",
       "29  http://www.fiercepharma.com/vaccines/merck-s-vax-sales-fail-to-see-same-growth-reported-by-gsk-pfizer-and-sanofi                             \n",
       "..                                                                                                               ...                             \n",
       "70  http://www.chictr.org.cn/showproj.aspx?proj=4461                                                                                             \n",
       "71  http://www.chictr.org.cn/showproj.aspx?proj=11965                                                                                            \n",
       "72  http://www.chictr.org.cn/showproj.aspx?proj=11987                                                                                            \n",
       "73  http://www.chictr.org.cn/showproj.aspx?proj=4480                                                                                             \n",
       "74  http://www.australiancancertrials.gov.au/search-clinical-trials/search-results/clinical-trials-details.aspx?TrialID=335187&ds=1              \n",
       "75  https://www.anzctr.org.au/Trial/Registration/TrialReview.aspx?ACTRN=12614001175662                                                           \n",
       "76  https://www.anzctr.org.au/Trial/Registration/TrialReview.aspx?ACTRN=12616000927426p                                                          \n",
       "77  https://www.anzctr.org.au/Trial/Registration/TrialReview.aspx?ACTRN=12616000791437                                                           \n",
       "78  https://www.anzctr.org.au/Trial/Registration/TrialReview.aspx?ACTRN=12616001395426                                                           \n",
       "79  https://www.anzctr.org.au/Trial/Registration/TrialReview.aspx?ACTRN=12612001292864                                                           \n",
       "80  https://www.anzctr.org.au/Trial/Registration/TrialReview.aspx?ACTRN=12614000807651                                                           \n",
       "81  https://www.anzctr.org.au/Trial/Registration/TrialReview.aspx?ACTRN=12611000594921                                                           \n",
       "82  https://www.anzctr.org.au/Trial/Registration/TrialReview.aspx?ACTRN=12616001695493p                                                          \n",
       "83  https://www.anzctr.org.au/Trial/Registration/TrialReview.aspx?ACTRN=12611001061921                                                           \n",
       "84  https://www.anzctr.org.au/Trial/Registration/TrialReview.aspx?ACTRN=12612000848808                                                           \n",
       "85  https://www.anzctr.org.au/Trial/Registration/TrialReview.aspx?ACTRN=12613000160730                                                           \n",
       "86  https://www.anzctr.org.au/Trial/Registration/TrialReview.aspx?ACTRN=12616000543482                                                           \n",
       "87  https://www.anzctr.org.au/Trial/Registration/TrialReview.aspx?ACTRN=12613000559718                                                           \n",
       "88  https://www.anzctr.org.au/Trial/Registration/TrialReview.aspx?ACTRN=12616000101482p                                                          \n",
       "89  https://www.anzctr.org.au/Trial/Registration/TrialReview.aspx?ACTRN=12612001207808                                                           \n",
       "90  https://www.anzctr.org.au/Trial/Registration/TrialReview.aspx?ACTRN=12611001155987                                                           \n",
       "91  https://www.anzctr.org.au/Trial/Registration/TrialReview.aspx?ACTRN=12614001200673                                                           \n",
       "92  http://www.genengnews.com/gen-news-highlights/bruker-acquires-invivo-biotech-services/81253647                                               \n",
       "93  http://www.genengnews.com/gen-news-highlights/declutter-protein-helps-cells-avoid-parkinsons/81253624                                        \n",
       "94  http://www.genengnews.com/gen-news-highlights/psioxus-bms-ink-50m-upfront-collaboration-to-develop-transgenic-oncolytic-virus/81253585       \n",
       "95  http://www.genengnews.com/gen-news-highlights/scripps-florida-uses-precision-medicine-method-to-tackle-rna-diseases/81253542                 \n",
       "96  http://www.genengnews.com/gen-news-highlights/biomarker-predicts-fatal-leukemia-development-in-previously-treated-cancer-patients/81253500   \n",
       "97  http://www.genengnews.com/gen-news-highlights/parker-institute-cri-partner-to-develop-cancer-immunotherapies/81253485                        \n",
       "98  https://www.anzctr.org.au/Trial/Registration/TrialReview.aspx?ACTRN=12615001065583                                                           \n",
       "99  http://www.genengnews.com/gen-news-highlights/bms-enterome-launch-microbiome-immuno-oncology-collaboration/81253438                          \n",
       "\n",
       "               Tag  \n",
       "0   news            \n",
       "1   news            \n",
       "2   news            \n",
       "3   news            \n",
       "4   news            \n",
       "5   news            \n",
       "6   news            \n",
       "7   news            \n",
       "8   news            \n",
       "9   news            \n",
       "10  news            \n",
       "11  news            \n",
       "12  news            \n",
       "13  news            \n",
       "14  news            \n",
       "15  news            \n",
       "16  news            \n",
       "17  news            \n",
       "18  news            \n",
       "19  news            \n",
       "20  news            \n",
       "21  news            \n",
       "22  news            \n",
       "23  news            \n",
       "24  news            \n",
       "25  news            \n",
       "26  news            \n",
       "27  news            \n",
       "28  news            \n",
       "29  news            \n",
       "..   ...            \n",
       "70  clinicalTrials  \n",
       "71  clinicalTrials  \n",
       "72  clinicalTrials  \n",
       "73  clinicalTrials  \n",
       "74  clinicalTrials  \n",
       "75  clinicalTrials  \n",
       "76  clinicalTrials  \n",
       "77  clinicalTrials  \n",
       "78  clinicalTrials  \n",
       "79  clinicalTrials  \n",
       "80  clinicalTrials  \n",
       "81  clinicalTrials  \n",
       "82  clinicalTrials  \n",
       "83  clinicalTrials  \n",
       "84  clinicalTrials  \n",
       "85  clinicalTrials  \n",
       "86  clinicalTrials  \n",
       "87  clinicalTrials  \n",
       "88  clinicalTrials  \n",
       "89  clinicalTrials  \n",
       "90  clinicalTrials  \n",
       "91  clinicalTrials  \n",
       "92  news            \n",
       "93  news            \n",
       "94  news            \n",
       "95  news            \n",
       "96  news            \n",
       "97  news            \n",
       "98  clinicalTrials  \n",
       "99  news            \n",
       "\n",
       "[100 rows x 4 columns]"
      ]
     },
     "execution_count": 113,
     "metadata": {},
     "output_type": "execute_result"
    }
   ],
   "source": [
    "train.head(100)"
   ]
  },
  {
   "cell_type": "code",
   "execution_count": 261,
   "metadata": {},
   "outputs": [
    {
     "data": {
      "text/plain": [
       "'https://findadoc.ariahealth.org/details/189/anthony-abbruzzi-family_medicine-philadelphia'"
      ]
     },
     "execution_count": 261,
     "metadata": {},
     "output_type": "execute_result"
    }
   ],
   "source": [
    "a=train[train.index==79300].Url.iloc[0]\n",
    "a"
   ]
  },
  {
   "cell_type": "code",
   "execution_count": 227,
   "metadata": {},
   "outputs": [],
   "source": [
    "pattern=r'//.*'\n",
    "b=re.findall(pattern,a)\n",
    "c=b[0][2:]\n",
    "d=re.split('\\.|/|-|_',c)\n",
    "e=''\n",
    "urls=[]\n",
    "for i in d:\n",
    "    e+=str(i).lower()\n",
    "    e+=' '\n",
    "e = ''.join([i for i in e if not i.isdigit()])\n",
    "f=''\n",
    "for i in e:\n",
    "    if i.isalpha() or i==' ':\n",
    "        #print(i)\n",
    "        f+=i\n",
    "    else:\n",
    "        f+=' '\n",
    "\n",
    "urls.append(f)"
   ]
  },
  {
   "cell_type": "code",
   "execution_count": 242,
   "metadata": {},
   "outputs": [
    {
     "data": {
      "text/plain": [
       "'www intelsatgeneral com news releases intelsat epicng delivering on the promise of high throughput with high performance  '"
      ]
     },
     "execution_count": 242,
     "metadata": {},
     "output_type": "execute_result"
    }
   ],
   "source": [
    "f"
   ]
  },
  {
   "cell_type": "code",
   "execution_count": 257,
   "metadata": {},
   "outputs": [],
   "source": [
    "from nltk.collocations import BigramCollocationFinder\n",
    "\n",
    "finder = BigramCollocationFinder.from_words(f)\n",
    "finder.apply_freq_filter(5)\n",
    "bigram_model = finder.ngram_fd.items()\n",
    "bigram_model = sorted(finder.ngram_fd.items(), key = lambda item : item[1], reverse = True)"
   ]
  },
  {
   "cell_type": "code",
   "execution_count": 258,
   "metadata": {},
   "outputs": [
    {
     "name": "stdout",
     "output_type": "stream",
     "text": [
      "[]\n"
     ]
    }
   ],
   "source": [
    "print(bigram_model)"
   ]
  },
  {
   "cell_type": "code",
   "execution_count": 259,
   "metadata": {},
   "outputs": [],
   "source": [
    "for i in finder.ngram_fd.items():\n",
    "    print(i)"
   ]
  },
  {
   "cell_type": "code",
   "execution_count": null,
   "metadata": {},
   "outputs": [],
   "source": []
  },
  {
   "cell_type": "code",
   "execution_count": 57,
   "metadata": {},
   "outputs": [],
   "source": [
    "#for creating ngrams\n",
    "\n",
    "#convert all to lower case -------- done\n",
    "#all digits to be removed ----------done\n",
    "#Punctuation marks and special characters were removed ----------done (no improvement)\n",
    "#All the sentences were concatenated with space in between\n",
    "#Series of contiguous white spaces were replaced by single space"
   ]
  },
  {
   "cell_type": "code",
   "execution_count": 22,
   "metadata": {},
   "outputs": [],
   "source": []
  },
  {
   "cell_type": "code",
   "execution_count": 308,
   "metadata": {},
   "outputs": [],
   "source": [
    "def preprocess(url,title):\n",
    "    \n",
    "    pattern=r'//.*'\n",
    "    urls=[]\n",
    "    for i in url:\n",
    "        b=re.findall(pattern,i)\n",
    "        c=b[0][2:]\n",
    "        d=re.split('\\.|/|-|_',c)\n",
    "        e=''\n",
    "        for i in d:\n",
    "            e+=str(i).lower()\n",
    "            e+=' '\n",
    "        e = ''.join([i for i in e if not i.isdigit()])\n",
    "        f=''\n",
    "        for i in e:\n",
    "            if i.isalpha() or i==' ':\n",
    "                f+=i\n",
    "            else:\n",
    "                f+=' '\n",
    "        urls.append(f)\n",
    "        \n",
    "    titles=[]\n",
    "    for e in title:    \n",
    "        e = ''.join([i for i in e if not i.isdigit()])\n",
    "        f=''\n",
    "        for i in e:\n",
    "            if i.isalpha() or i==' ':\n",
    "                #print(i)\n",
    "                f+=i\n",
    "            else:\n",
    "                f+=' '\n",
    "        f = re.sub(' +',' ',f) # replace series of spaces with single space\n",
    "        titles.append(f)\n",
    "    \n",
    "    data=[]\n",
    "    for i in range(len(title)):\n",
    "        s=titles[i]+' '+urls[i]\n",
    "        data.append(str(s))\n",
    "        \n",
    "    count_vect = CountVectorizer()\n",
    "    X_train_counts = count_vect.fit_transform(urls)\n",
    "    \n",
    "    tfidf_transformer = TfidfTransformer()\n",
    "    X_train_tfidf = tfidf_transformer.fit_transform(X_train_counts)\n",
    "\n",
    "    \n",
    "    \n",
    "    \n",
    "    return(data)"
   ]
  },
  {
   "cell_type": "markdown",
   "metadata": {},
   "source": [
    "# MultinomialNB"
   ]
  },
  {
   "cell_type": "code",
   "execution_count": 40,
   "metadata": {},
   "outputs": [],
   "source": [
    "urls=preprocess(train.Url)\n",
    "target=train.Tag.values\n",
    "\n",
    "text_clf = Pipeline([('vect', CountVectorizer()), ('tfidf', TfidfTransformer()), ('clf', MultinomialNB())])\n",
    "text_clf = text_clf.fit(urls, target)"
   ]
  },
  {
   "cell_type": "code",
   "execution_count": 41,
   "metadata": {},
   "outputs": [
    {
     "data": {
      "text/plain": [
       "0.9235317230153236"
      ]
     },
     "execution_count": 41,
     "metadata": {},
     "output_type": "execute_result"
    }
   ],
   "source": [
    "predicted = text_clf.predict(urls)\n",
    "np.mean(predicted == target)"
   ]
  },
  {
   "cell_type": "code",
   "execution_count": 42,
   "metadata": {},
   "outputs": [],
   "source": [
    "test_urls=preprocess(test.Url)\n",
    "predicted = text_clf.predict(test_urls)"
   ]
  },
  {
   "cell_type": "code",
   "execution_count": 43,
   "metadata": {},
   "outputs": [
    {
     "data": {
      "text/plain": [
       "(25787,)"
      ]
     },
     "execution_count": 43,
     "metadata": {},
     "output_type": "execute_result"
    }
   ],
   "source": [
    "predicted.shape"
   ]
  },
  {
   "cell_type": "code",
   "execution_count": 49,
   "metadata": {},
   "outputs": [],
   "source": [
    "submission.drop('Tag',axis=1,inplace=True)"
   ]
  },
  {
   "cell_type": "code",
   "execution_count": 51,
   "metadata": {},
   "outputs": [],
   "source": [
    "submission['Tag']=predicted"
   ]
  },
  {
   "cell_type": "code",
   "execution_count": 52,
   "metadata": {},
   "outputs": [
    {
     "data": {
      "text/html": [
       "<div>\n",
       "<style scoped>\n",
       "    .dataframe tbody tr th:only-of-type {\n",
       "        vertical-align: middle;\n",
       "    }\n",
       "\n",
       "    .dataframe tbody tr th {\n",
       "        vertical-align: top;\n",
       "    }\n",
       "\n",
       "    .dataframe thead th {\n",
       "        text-align: right;\n",
       "    }\n",
       "</style>\n",
       "<table border=\"1\" class=\"dataframe\">\n",
       "  <thead>\n",
       "    <tr style=\"text-align: right;\">\n",
       "      <th></th>\n",
       "      <th>Webpage_id</th>\n",
       "      <th>Tag</th>\n",
       "    </tr>\n",
       "  </thead>\n",
       "  <tbody>\n",
       "    <tr>\n",
       "      <th>0</th>\n",
       "      <td>31</td>\n",
       "      <td>clinicalTrials</td>\n",
       "    </tr>\n",
       "    <tr>\n",
       "      <th>1</th>\n",
       "      <td>32</td>\n",
       "      <td>others</td>\n",
       "    </tr>\n",
       "    <tr>\n",
       "      <th>2</th>\n",
       "      <td>33</td>\n",
       "      <td>others</td>\n",
       "    </tr>\n",
       "    <tr>\n",
       "      <th>3</th>\n",
       "      <td>34</td>\n",
       "      <td>others</td>\n",
       "    </tr>\n",
       "    <tr>\n",
       "      <th>4</th>\n",
       "      <td>35</td>\n",
       "      <td>others</td>\n",
       "    </tr>\n",
       "  </tbody>\n",
       "</table>\n",
       "</div>"
      ],
      "text/plain": [
       "   Webpage_id             Tag\n",
       "0  31          clinicalTrials\n",
       "1  32          others        \n",
       "2  33          others        \n",
       "3  34          others        \n",
       "4  35          others        "
      ]
     },
     "execution_count": 52,
     "metadata": {},
     "output_type": "execute_result"
    }
   ],
   "source": [
    "submission.head()"
   ]
  },
  {
   "cell_type": "code",
   "execution_count": 53,
   "metadata": {},
   "outputs": [],
   "source": [
    "submission.to_csv('result.csv', index=False)"
   ]
  },
  {
   "cell_type": "code",
   "execution_count": null,
   "metadata": {},
   "outputs": [],
   "source": []
  },
  {
   "cell_type": "markdown",
   "metadata": {},
   "source": [
    "# SVM"
   ]
  },
  {
   "cell_type": "code",
   "execution_count": 309,
   "metadata": {},
   "outputs": [
    {
     "name": "stderr",
     "output_type": "stream",
     "text": [
      "C:\\Users\\Nishant\\Anaconda3\\lib\\site-packages\\sklearn\\linear_model\\stochastic_gradient.py:117: DeprecationWarning: n_iter parameter is deprecated in 0.19 and will be removed in 0.21. Use max_iter and tol instead.\n",
      "  DeprecationWarning)\n"
     ]
    },
    {
     "data": {
      "text/plain": [
       "0.8842965928864108"
      ]
     },
     "execution_count": 309,
     "metadata": {},
     "output_type": "execute_result"
    }
   ],
   "source": [
    "from sklearn.linear_model import SGDClassifier\n",
    "urls=preprocess(train.Url,new_data.Html)\n",
    "target=train.Tag.values\n",
    "\n",
    "text_clf_svm = Pipeline([('vect', CountVectorizer()), ('tfidf', TfidfTransformer()),\n",
    "                         ('clf-svm', SGDClassifier(loss='hinge', penalty='l2',alpha=1e-3, n_iter=5, random_state=42))])\n",
    "\n",
    "text_clf_svm = text_clf_svm.fit(urls, target)\n",
    "predicted_svm = text_clf_svm.predict(urls)\n",
    "np.mean(predicted_svm == target)"
   ]
  },
  {
   "cell_type": "code",
   "execution_count": null,
   "metadata": {},
   "outputs": [],
   "source": [
    "#0.8949613635938406"
   ]
  },
  {
   "cell_type": "code",
   "execution_count": 310,
   "metadata": {},
   "outputs": [],
   "source": [
    "test_urls=preprocess(test.Url,new_data_test.Html)\n",
    "predicted = text_clf_svm.predict(test_urls)"
   ]
  },
  {
   "cell_type": "code",
   "execution_count": 311,
   "metadata": {},
   "outputs": [
    {
     "data": {
      "text/plain": [
       "(25787,)"
      ]
     },
     "execution_count": 311,
     "metadata": {},
     "output_type": "execute_result"
    }
   ],
   "source": [
    "predicted.shape"
   ]
  },
  {
   "cell_type": "code",
   "execution_count": 312,
   "metadata": {},
   "outputs": [],
   "source": [
    "submission.drop('Tag',axis=1,inplace=True)\n",
    "submission['Tag']=predicted\n",
    "submission.to_csv('result_svm_with_new_data.csv', index=False)"
   ]
  },
  {
   "cell_type": "code",
   "execution_count": 313,
   "metadata": {},
   "outputs": [
    {
     "data": {
      "text/html": [
       "<div>\n",
       "<style scoped>\n",
       "    .dataframe tbody tr th:only-of-type {\n",
       "        vertical-align: middle;\n",
       "    }\n",
       "\n",
       "    .dataframe tbody tr th {\n",
       "        vertical-align: top;\n",
       "    }\n",
       "\n",
       "    .dataframe thead th {\n",
       "        text-align: right;\n",
       "    }\n",
       "</style>\n",
       "<table border=\"1\" class=\"dataframe\">\n",
       "  <thead>\n",
       "    <tr style=\"text-align: right;\">\n",
       "      <th></th>\n",
       "      <th>Webpage_id</th>\n",
       "      <th>Tag</th>\n",
       "    </tr>\n",
       "  </thead>\n",
       "  <tbody>\n",
       "    <tr>\n",
       "      <th>0</th>\n",
       "      <td>31</td>\n",
       "      <td>clinicalTrials</td>\n",
       "    </tr>\n",
       "    <tr>\n",
       "      <th>1</th>\n",
       "      <td>32</td>\n",
       "      <td>clinicalTrials</td>\n",
       "    </tr>\n",
       "    <tr>\n",
       "      <th>2</th>\n",
       "      <td>33</td>\n",
       "      <td>clinicalTrials</td>\n",
       "    </tr>\n",
       "    <tr>\n",
       "      <th>3</th>\n",
       "      <td>34</td>\n",
       "      <td>clinicalTrials</td>\n",
       "    </tr>\n",
       "    <tr>\n",
       "      <th>4</th>\n",
       "      <td>35</td>\n",
       "      <td>clinicalTrials</td>\n",
       "    </tr>\n",
       "  </tbody>\n",
       "</table>\n",
       "</div>"
      ],
      "text/plain": [
       "   Webpage_id             Tag\n",
       "0  31          clinicalTrials\n",
       "1  32          clinicalTrials\n",
       "2  33          clinicalTrials\n",
       "3  34          clinicalTrials\n",
       "4  35          clinicalTrials"
      ]
     },
     "execution_count": 313,
     "metadata": {},
     "output_type": "execute_result"
    }
   ],
   "source": [
    "submission.head()"
   ]
  },
  {
   "cell_type": "code",
   "execution_count": 314,
   "metadata": {},
   "outputs": [],
   "source": []
  },
  {
   "cell_type": "markdown",
   "metadata": {},
   "source": [
    "# Train Val split"
   ]
  },
  {
   "cell_type": "code",
   "execution_count": 5,
   "metadata": {},
   "outputs": [
    {
     "data": {
      "text/plain": [
       "17815.666666666668"
      ]
     },
     "execution_count": 5,
     "metadata": {},
     "output_type": "execute_result"
    }
   ],
   "source": [
    "53447/3"
   ]
  },
  {
   "cell_type": "code",
   "execution_count": 6,
   "metadata": {},
   "outputs": [
    {
     "data": {
      "text/plain": [
       "35630"
      ]
     },
     "execution_count": 6,
     "metadata": {},
     "output_type": "execute_result"
    }
   ],
   "source": [
    "17815*2"
   ]
  },
  {
   "cell_type": "code",
   "execution_count": 7,
   "metadata": {},
   "outputs": [
    {
     "data": {
      "text/plain": [
       "2.0"
      ]
     },
     "execution_count": 7,
     "metadata": {},
     "output_type": "execute_result"
    }
   ],
   "source": [
    "35630/17815"
   ]
  },
  {
   "cell_type": "code",
   "execution_count": 27,
   "metadata": {},
   "outputs": [
    {
     "data": {
      "text/html": [
       "<div>\n",
       "<style scoped>\n",
       "    .dataframe tbody tr th:only-of-type {\n",
       "        vertical-align: middle;\n",
       "    }\n",
       "\n",
       "    .dataframe tbody tr th {\n",
       "        vertical-align: top;\n",
       "    }\n",
       "\n",
       "    .dataframe thead th {\n",
       "        text-align: right;\n",
       "    }\n",
       "</style>\n",
       "<table border=\"1\" class=\"dataframe\">\n",
       "  <thead>\n",
       "    <tr style=\"text-align: right;\">\n",
       "      <th></th>\n",
       "      <th>Webpage_id</th>\n",
       "      <th>Domain</th>\n",
       "      <th>Url</th>\n",
       "      <th>Tag</th>\n",
       "    </tr>\n",
       "  </thead>\n",
       "  <tbody>\n",
       "    <tr>\n",
       "      <th>0</th>\n",
       "      <td>1</td>\n",
       "      <td>www.fiercepharma.com</td>\n",
       "      <td>http://www.fiercepharma.com/marketing/tecfidera-gilenya-and-aubagio-s-3-way-battle-for-ms-share-about-to-get-more-interesting</td>\n",
       "      <td>news</td>\n",
       "    </tr>\n",
       "    <tr>\n",
       "      <th>1</th>\n",
       "      <td>2</td>\n",
       "      <td>www.fiercepharma.com</td>\n",
       "      <td>http://www.fiercepharma.com/pharma/novo-equipped-to-weather-storm-u-s-diabetes-market-ceo-says</td>\n",
       "      <td>news</td>\n",
       "    </tr>\n",
       "    <tr>\n",
       "      <th>2</th>\n",
       "      <td>3</td>\n",
       "      <td>www.fiercepharma.com</td>\n",
       "      <td>http://www.fiercepharma.com/pharma/another-exec-departs-troubled-endo-and-time-it-s-for-another-drugmaker</td>\n",
       "      <td>news</td>\n",
       "    </tr>\n",
       "    <tr>\n",
       "      <th>3</th>\n",
       "      <td>4</td>\n",
       "      <td>www.fiercepharma.com</td>\n",
       "      <td>http://www.fiercepharma.com/pharma/teva-buy-biosim-specialist-celltrion-it-wouldn-t-say-no</td>\n",
       "      <td>news</td>\n",
       "    </tr>\n",
       "    <tr>\n",
       "      <th>4</th>\n",
       "      <td>5</td>\n",
       "      <td>www.fiercepharma.com</td>\n",
       "      <td>http://www.fiercepharma.com/marketing/actress-marissa-tomei-partners-allergan-restasis-to-drive-dry-eye-awareness</td>\n",
       "      <td>news</td>\n",
       "    </tr>\n",
       "  </tbody>\n",
       "</table>\n",
       "</div>"
      ],
      "text/plain": [
       "   Webpage_id                Domain  \\\n",
       "0  1           www.fiercepharma.com   \n",
       "1  2           www.fiercepharma.com   \n",
       "2  3           www.fiercepharma.com   \n",
       "3  4           www.fiercepharma.com   \n",
       "4  5           www.fiercepharma.com   \n",
       "\n",
       "                                                                                                                             Url  \\\n",
       "0  http://www.fiercepharma.com/marketing/tecfidera-gilenya-and-aubagio-s-3-way-battle-for-ms-share-about-to-get-more-interesting   \n",
       "1  http://www.fiercepharma.com/pharma/novo-equipped-to-weather-storm-u-s-diabetes-market-ceo-says                                  \n",
       "2  http://www.fiercepharma.com/pharma/another-exec-departs-troubled-endo-and-time-it-s-for-another-drugmaker                       \n",
       "3  http://www.fiercepharma.com/pharma/teva-buy-biosim-specialist-celltrion-it-wouldn-t-say-no                                      \n",
       "4  http://www.fiercepharma.com/marketing/actress-marissa-tomei-partners-allergan-restasis-to-drive-dry-eye-awareness               \n",
       "\n",
       "    Tag  \n",
       "0  news  \n",
       "1  news  \n",
       "2  news  \n",
       "3  news  \n",
       "4  news  "
      ]
     },
     "execution_count": 27,
     "metadata": {},
     "output_type": "execute_result"
    }
   ],
   "source": [
    "train.head()"
   ]
  },
  {
   "cell_type": "code",
   "execution_count": 61,
   "metadata": {},
   "outputs": [],
   "source": [
    "grp=train.groupby('Tag')"
   ]
  },
  {
   "cell_type": "code",
   "execution_count": 10,
   "metadata": {},
   "outputs": [],
   "source": [
    "#grp.groups"
   ]
  },
  {
   "cell_type": "code",
   "execution_count": 11,
   "metadata": {},
   "outputs": [],
   "source": [
    "# for name,group in grp:\n",
    "#     print(name)\n",
    "#     print(group)"
   ]
  },
  {
   "cell_type": "code",
   "execution_count": 29,
   "metadata": {},
   "outputs": [
    {
     "data": {
      "text/plain": [
       "array(['news', 'clinicalTrials', 'conferences', 'profile', 'forum',\n",
       "       'publication', 'thesis', 'guidelines', 'others'], dtype=object)"
      ]
     },
     "execution_count": 29,
     "metadata": {},
     "output_type": "execute_result"
    }
   ],
   "source": [
    "train.Tag.unique()"
   ]
  },
  {
   "cell_type": "code",
   "execution_count": 62,
   "metadata": {},
   "outputs": [],
   "source": [
    "test_set=[]\n",
    "train_set=[]\n",
    "test_tag_set=[]\n",
    "train_tag_set=[]\n",
    "count=0\n",
    "for unique_tags in train.Tag.unique():\n",
    "    tag=grp.get_group(unique_tags)\n",
    "    s=set(tag.Domain)\n",
    "    count+=len(s)\n",
    "    a=list(s)\n",
    "    #shuffle(a)\n",
    "    for i in range(len(a)):\n",
    "        if (i+1)%3==0:\n",
    "            test_set.append(a[i])\n",
    "            test_tag_set.append(unique_tags)\n",
    "        else:\n",
    "            train_set.append(a[i])\n",
    "            train_tag_set.append(unique_tags)"
   ]
  },
  {
   "cell_type": "code",
   "execution_count": 31,
   "metadata": {},
   "outputs": [
    {
     "data": {
      "text/plain": [
       "1595"
      ]
     },
     "execution_count": 31,
     "metadata": {},
     "output_type": "execute_result"
    }
   ],
   "source": [
    "len(test_set)"
   ]
  },
  {
   "cell_type": "code",
   "execution_count": 32,
   "metadata": {},
   "outputs": [
    {
     "data": {
      "text/plain": [
       "3192"
      ]
     },
     "execution_count": 32,
     "metadata": {},
     "output_type": "execute_result"
    }
   ],
   "source": [
    "len(train_set)"
   ]
  },
  {
   "cell_type": "code",
   "execution_count": 33,
   "metadata": {},
   "outputs": [
    {
     "data": {
      "text/plain": [
       "2.0012539184952978"
      ]
     },
     "execution_count": 33,
     "metadata": {},
     "output_type": "execute_result"
    }
   ],
   "source": [
    "3192/1595"
   ]
  },
  {
   "cell_type": "code",
   "execution_count": 34,
   "metadata": {},
   "outputs": [
    {
     "data": {
      "text/plain": [
       "3974"
      ]
     },
     "execution_count": 34,
     "metadata": {},
     "output_type": "execute_result"
    }
   ],
   "source": [
    "len(train.Domain.unique())"
   ]
  },
  {
   "cell_type": "code",
   "execution_count": 35,
   "metadata": {},
   "outputs": [
    {
     "name": "stdout",
     "output_type": "stream",
     "text": [
      "intersection 305\n"
     ]
    },
    {
     "data": {
      "text/plain": [
       "3974"
      ]
     },
     "execution_count": 35,
     "metadata": {},
     "output_type": "execute_result"
    }
   ],
   "source": [
    "a=set(test_set)\n",
    "b=set(train_set)\n",
    "print('intersection',len(a.intersection(b)))\n",
    "len(a.union(b))\n",
    "#len(a)+len(b)"
   ]
  },
  {
   "cell_type": "markdown",
   "metadata": {},
   "source": [
    "#this verifies correct spliting "
   ]
  },
  {
   "cell_type": "code",
   "execution_count": 67,
   "metadata": {},
   "outputs": [
    {
     "data": {
      "text/plain": [
       "3192"
      ]
     },
     "execution_count": 67,
     "metadata": {},
     "output_type": "execute_result"
    }
   ],
   "source": [
    "len(train_tag_set)"
   ]
  },
  {
   "cell_type": "code",
   "execution_count": 68,
   "metadata": {},
   "outputs": [],
   "source": [
    "# now making train and val dataset of unique domains\n",
    "\n",
    "train_domain=pd.DataFrame(train_set)"
   ]
  },
  {
   "cell_type": "code",
   "execution_count": 69,
   "metadata": {},
   "outputs": [],
   "source": [
    "train_domain.columns=['Domain']\n",
    "train_domain['Tag']=train_tag_set"
   ]
  },
  {
   "cell_type": "code",
   "execution_count": 70,
   "metadata": {},
   "outputs": [
    {
     "name": "stdout",
     "output_type": "stream",
     "text": [
      "<class 'pandas.core.frame.DataFrame'>\n",
      "RangeIndex: 3192 entries, 0 to 3191\n",
      "Data columns (total 2 columns):\n",
      "Domain    3192 non-null object\n",
      "Tag       3192 non-null object\n",
      "dtypes: object(2)\n",
      "memory usage: 50.0+ KB\n"
     ]
    }
   ],
   "source": [
    "train_domain.info()"
   ]
  },
  {
   "cell_type": "code",
   "execution_count": 71,
   "metadata": {},
   "outputs": [],
   "source": [
    "train_data=pd.merge(train_domain,train,on=['Domain','Tag'],how='left')"
   ]
  },
  {
   "cell_type": "code",
   "execution_count": 72,
   "metadata": {},
   "outputs": [
    {
     "name": "stdout",
     "output_type": "stream",
     "text": [
      "<class 'pandas.core.frame.DataFrame'>\n",
      "Int64Index: 36631 entries, 0 to 36630\n",
      "Data columns (total 4 columns):\n",
      "Domain        36631 non-null object\n",
      "Tag           36631 non-null object\n",
      "Webpage_id    36631 non-null int64\n",
      "Url           36631 non-null object\n",
      "dtypes: int64(1), object(3)\n",
      "memory usage: 1.4+ MB\n"
     ]
    }
   ],
   "source": [
    "train_data.info()"
   ]
  },
  {
   "cell_type": "code",
   "execution_count": 73,
   "metadata": {},
   "outputs": [
    {
     "data": {
      "text/html": [
       "<div>\n",
       "<style scoped>\n",
       "    .dataframe tbody tr th:only-of-type {\n",
       "        vertical-align: middle;\n",
       "    }\n",
       "\n",
       "    .dataframe tbody tr th {\n",
       "        vertical-align: top;\n",
       "    }\n",
       "\n",
       "    .dataframe thead th {\n",
       "        text-align: right;\n",
       "    }\n",
       "</style>\n",
       "<table border=\"1\" class=\"dataframe\">\n",
       "  <thead>\n",
       "    <tr style=\"text-align: right;\">\n",
       "      <th></th>\n",
       "      <th>Domain</th>\n",
       "      <th>Tag</th>\n",
       "      <th>Webpage_id</th>\n",
       "      <th>Url</th>\n",
       "    </tr>\n",
       "  </thead>\n",
       "  <tbody>\n",
       "    <tr>\n",
       "      <th>0</th>\n",
       "      <td>ir.amagpharma.com</td>\n",
       "      <td>news</td>\n",
       "      <td>1497</td>\n",
       "      <td>http://ir.amagpharma.com/phoenix.zhtml?c=61596&amp;p=irol-news&amp;nyo=1</td>\n",
       "    </tr>\n",
       "    <tr>\n",
       "      <th>1</th>\n",
       "      <td>ir.amagpharma.com</td>\n",
       "      <td>news</td>\n",
       "      <td>1791</td>\n",
       "      <td>http://ir.amagpharma.com/phoenix.zhtml?c=61596&amp;p=irol-news&amp;nyo=0</td>\n",
       "    </tr>\n",
       "    <tr>\n",
       "      <th>2</th>\n",
       "      <td>ir.amagpharma.com</td>\n",
       "      <td>news</td>\n",
       "      <td>9622</td>\n",
       "      <td>http://ir.amagpharma.com/phoenix.zhtml?c=61596&amp;p=irol-news&amp;nyo=3</td>\n",
       "    </tr>\n",
       "    <tr>\n",
       "      <th>3</th>\n",
       "      <td>ir.amagpharma.com</td>\n",
       "      <td>news</td>\n",
       "      <td>9686</td>\n",
       "      <td>http://ir.amagpharma.com/corporate.rss?c=61596&amp;Rule=Cat=news~subcat=ALL</td>\n",
       "    </tr>\n",
       "    <tr>\n",
       "      <th>4</th>\n",
       "      <td>ir.amagpharma.com</td>\n",
       "      <td>news</td>\n",
       "      <td>10026</td>\n",
       "      <td>http://ir.amagpharma.com/phoenix.zhtml?c=61596&amp;p=irol-news&amp;nyo=4</td>\n",
       "    </tr>\n",
       "  </tbody>\n",
       "</table>\n",
       "</div>"
      ],
      "text/plain": [
       "              Domain   Tag  Webpage_id  \\\n",
       "0  ir.amagpharma.com  news  1497         \n",
       "1  ir.amagpharma.com  news  1791         \n",
       "2  ir.amagpharma.com  news  9622         \n",
       "3  ir.amagpharma.com  news  9686         \n",
       "4  ir.amagpharma.com  news  10026        \n",
       "\n",
       "                                                                       Url  \n",
       "0  http://ir.amagpharma.com/phoenix.zhtml?c=61596&p=irol-news&nyo=1         \n",
       "1  http://ir.amagpharma.com/phoenix.zhtml?c=61596&p=irol-news&nyo=0         \n",
       "2  http://ir.amagpharma.com/phoenix.zhtml?c=61596&p=irol-news&nyo=3         \n",
       "3  http://ir.amagpharma.com/corporate.rss?c=61596&Rule=Cat=news~subcat=ALL  \n",
       "4  http://ir.amagpharma.com/phoenix.zhtml?c=61596&p=irol-news&nyo=4         "
      ]
     },
     "execution_count": 73,
     "metadata": {},
     "output_type": "execute_result"
    }
   ],
   "source": [
    "train_data.head()"
   ]
  },
  {
   "cell_type": "code",
   "execution_count": 74,
   "metadata": {},
   "outputs": [
    {
     "data": {
      "text/plain": [
       "36631"
      ]
     },
     "execution_count": 74,
     "metadata": {},
     "output_type": "execute_result"
    }
   ],
   "source": [
    "len(train_data.Webpage_id.unique())"
   ]
  },
  {
   "cell_type": "code",
   "execution_count": 75,
   "metadata": {},
   "outputs": [],
   "source": [
    "val_domain=pd.DataFrame(test_set)\n",
    "val_domain.columns=['Domain']\n",
    "val_domain['Tag']=test_tag_set"
   ]
  },
  {
   "cell_type": "code",
   "execution_count": 76,
   "metadata": {},
   "outputs": [
    {
     "name": "stdout",
     "output_type": "stream",
     "text": [
      "<class 'pandas.core.frame.DataFrame'>\n",
      "RangeIndex: 1595 entries, 0 to 1594\n",
      "Data columns (total 2 columns):\n",
      "Domain    1595 non-null object\n",
      "Tag       1595 non-null object\n",
      "dtypes: object(2)\n",
      "memory usage: 25.0+ KB\n"
     ]
    }
   ],
   "source": [
    "val_domain.info()"
   ]
  },
  {
   "cell_type": "code",
   "execution_count": 77,
   "metadata": {},
   "outputs": [],
   "source": [
    "val_data=pd.merge(val_domain,train,on=['Domain','Tag'],how='left')"
   ]
  },
  {
   "cell_type": "code",
   "execution_count": 78,
   "metadata": {},
   "outputs": [
    {
     "name": "stdout",
     "output_type": "stream",
     "text": [
      "<class 'pandas.core.frame.DataFrame'>\n",
      "Int64Index: 16816 entries, 0 to 16815\n",
      "Data columns (total 4 columns):\n",
      "Domain        16816 non-null object\n",
      "Tag           16816 non-null object\n",
      "Webpage_id    16816 non-null int64\n",
      "Url           16816 non-null object\n",
      "dtypes: int64(1), object(3)\n",
      "memory usage: 656.9+ KB\n"
     ]
    }
   ],
   "source": [
    "val_data.info()"
   ]
  },
  {
   "cell_type": "code",
   "execution_count": 79,
   "metadata": {},
   "outputs": [
    {
     "data": {
      "text/plain": [
       "16816"
      ]
     },
     "execution_count": 79,
     "metadata": {},
     "output_type": "execute_result"
    }
   ],
   "source": [
    "len(val_data.Webpage_id.unique())"
   ]
  },
  {
   "cell_type": "code",
   "execution_count": 80,
   "metadata": {},
   "outputs": [
    {
     "data": {
      "text/plain": [
       "53447"
      ]
     },
     "execution_count": 80,
     "metadata": {},
     "output_type": "execute_result"
    }
   ],
   "source": [
    "a=set(train_data.Webpage_id)\n",
    "b=set(val_data.Webpage_id)\n",
    "len(a.union(b))"
   ]
  },
  {
   "cell_type": "code",
   "execution_count": 81,
   "metadata": {},
   "outputs": [],
   "source": [
    "new_train=train_data.drop_duplicates(subset=['Webpage_id'], keep='first')"
   ]
  },
  {
   "cell_type": "code",
   "execution_count": 82,
   "metadata": {},
   "outputs": [
    {
     "name": "stdout",
     "output_type": "stream",
     "text": [
      "<class 'pandas.core.frame.DataFrame'>\n",
      "Int64Index: 36631 entries, 0 to 36630\n",
      "Data columns (total 4 columns):\n",
      "Domain        36631 non-null object\n",
      "Tag           36631 non-null object\n",
      "Webpage_id    36631 non-null int64\n",
      "Url           36631 non-null object\n",
      "dtypes: int64(1), object(3)\n",
      "memory usage: 1.4+ MB\n"
     ]
    }
   ],
   "source": [
    "new_train.info()"
   ]
  },
  {
   "cell_type": "code",
   "execution_count": 83,
   "metadata": {},
   "outputs": [],
   "source": [
    "new_val=val_data.drop_duplicates(subset=['Webpage_id'], keep='first')"
   ]
  },
  {
   "cell_type": "code",
   "execution_count": 84,
   "metadata": {},
   "outputs": [
    {
     "name": "stdout",
     "output_type": "stream",
     "text": [
      "<class 'pandas.core.frame.DataFrame'>\n",
      "Int64Index: 16816 entries, 0 to 16815\n",
      "Data columns (total 4 columns):\n",
      "Domain        16816 non-null object\n",
      "Tag           16816 non-null object\n",
      "Webpage_id    16816 non-null int64\n",
      "Url           16816 non-null object\n",
      "dtypes: int64(1), object(3)\n",
      "memory usage: 656.9+ KB\n"
     ]
    }
   ],
   "source": [
    "new_val.info()"
   ]
  },
  {
   "cell_type": "code",
   "execution_count": 86,
   "metadata": {},
   "outputs": [
    {
     "data": {
      "text/plain": [
       "0"
      ]
     },
     "execution_count": 86,
     "metadata": {},
     "output_type": "execute_result"
    }
   ],
   "source": [
    "a=set(new_train.Webpage_id)\n",
    "b=set(new_val.Webpage_id)\n",
    "len(a.intersection(b))"
   ]
  },
  {
   "cell_type": "code",
   "execution_count": 87,
   "metadata": {},
   "outputs": [
    {
     "data": {
      "text/plain": [
       "36464"
      ]
     },
     "execution_count": 87,
     "metadata": {},
     "output_type": "execute_result"
    }
   ],
   "source": [
    "len(new_train.Url.unique())"
   ]
  },
  {
   "cell_type": "code",
   "execution_count": 88,
   "metadata": {},
   "outputs": [],
   "source": [
    "#THIS CONFIRMS PROPER TRAIN AND VAL SPLIT"
   ]
  },
  {
   "cell_type": "code",
   "execution_count": 89,
   "metadata": {},
   "outputs": [],
   "source": [
    "def train_val_split(train):\n",
    "    grp=train.groupby('Tag')\n",
    "    \n",
    "    test_set=[]\n",
    "    train_set=[]\n",
    "    test_tag_set=[]\n",
    "    train_tag_set=[]\n",
    "    count=0\n",
    "    for unique_tags in train.Tag.unique():\n",
    "        tag=grp.get_group(unique_tags)\n",
    "        s=set(tag.Domain)\n",
    "        count+=len(s)\n",
    "        a=list(s)\n",
    "        #shuffle(a)\n",
    "        for i in range(len(a)):\n",
    "            if (i+1)%3==0:\n",
    "                test_set.append(a[i])\n",
    "                test_tag_set.append(unique_tags)\n",
    "            else:\n",
    "                train_set.append(a[i])\n",
    "                train_tag_set.append(unique_tags)\n",
    "    \n",
    "    \n",
    "    train_domain=pd.DataFrame(train_set)\n",
    "    train_domain.columns=['Domain']\n",
    "    train_domain['Tag']=train_tag_set\n",
    "    train_data=pd.merge(train_domain,train,on=['Domain','Tag'],how='left')\n",
    "    \n",
    "    val_domain=pd.DataFrame(test_set)\n",
    "    val_domain.columns=['Domain']\n",
    "    val_domain['Tag']=test_tag_set\n",
    "    val_data=pd.merge(val_domain,train,on=['Domain','Tag'],how='left')\n",
    "    \n",
    "    return(train_data,val_data)\n",
    "    "
   ]
  },
  {
   "cell_type": "code",
   "execution_count": 90,
   "metadata": {},
   "outputs": [],
   "source": [
    "train_data,val_data=train_val_split(train)"
   ]
  },
  {
   "cell_type": "code",
   "execution_count": 93,
   "metadata": {},
   "outputs": [
    {
     "data": {
      "text/plain": [
       "53447"
      ]
     },
     "execution_count": 93,
     "metadata": {},
     "output_type": "execute_result"
    }
   ],
   "source": [
    "a=set(train_data.Webpage_id)\n",
    "b=set(val_data.Webpage_id)\n",
    "len(a.union(b))"
   ]
  },
  {
   "cell_type": "code",
   "execution_count": 94,
   "metadata": {},
   "outputs": [
    {
     "name": "stdout",
     "output_type": "stream",
     "text": [
      "<class 'pandas.core.frame.DataFrame'>\n",
      "Int64Index: 36631 entries, 0 to 36630\n",
      "Data columns (total 4 columns):\n",
      "Domain        36631 non-null object\n",
      "Tag           36631 non-null object\n",
      "Webpage_id    36631 non-null int64\n",
      "Url           36631 non-null object\n",
      "dtypes: int64(1), object(3)\n",
      "memory usage: 1.4+ MB\n"
     ]
    }
   ],
   "source": [
    "train_data.info()"
   ]
  },
  {
   "cell_type": "code",
   "execution_count": 96,
   "metadata": {},
   "outputs": [
    {
     "name": "stdout",
     "output_type": "stream",
     "text": [
      "<class 'pandas.core.frame.DataFrame'>\n",
      "Int64Index: 16816 entries, 0 to 16815\n",
      "Data columns (total 4 columns):\n",
      "Domain        16816 non-null object\n",
      "Tag           16816 non-null object\n",
      "Webpage_id    16816 non-null int64\n",
      "Url           16816 non-null object\n",
      "dtypes: int64(1), object(3)\n",
      "memory usage: 656.9+ KB\n"
     ]
    }
   ],
   "source": [
    "val_data.info()"
   ]
  },
  {
   "cell_type": "code",
   "execution_count": 97,
   "metadata": {},
   "outputs": [
    {
     "data": {
      "text/plain": [
       "53447"
      ]
     },
     "execution_count": 97,
     "metadata": {},
     "output_type": "execute_result"
    }
   ],
   "source": [
    "36631+16816"
   ]
  },
  {
   "cell_type": "code",
   "execution_count": null,
   "metadata": {},
   "outputs": [],
   "source": []
  },
  {
   "cell_type": "code",
   "execution_count": 273,
   "metadata": {},
   "outputs": [],
   "source": [
    "import zipfile\n",
    "import re\n",
    "pattern=r'<title>.*</title>'\n",
    "\n",
    "zf = zipfile.ZipFile('train.zip') \n",
    "df = pd.read_csv(zf.open('html_data.csv'),chunksize=1)\n",
    "\n",
    "title=[]\n",
    "chunksize = 1\n",
    "for chunk in pd.read_csv(zf.open('html_data.csv'), chunksize=chunksize):\n",
    "    a=chunk.Html\n",
    "    idd=chunk.Webpage_id\n",
    "    c=re.findall(pattern,a.iloc[0])\n",
    "    if len(c)!=0:\n",
    "        title.append([idd.iloc[0],c[0][7:-8]])\n",
    "    else:\n",
    "        title.append([idd.iloc[0],' '])"
   ]
  },
  {
   "cell_type": "code",
   "execution_count": 282,
   "metadata": {},
   "outputs": [],
   "source": [
    "title_data=pd.DataFrame(title)\n",
    "title_data.columns=['Webpage_id','Html']"
   ]
  },
  {
   "cell_type": "code",
   "execution_count": 284,
   "metadata": {},
   "outputs": [],
   "source": [
    "title_data.to_csv('title_data.csv',index=False)\n"
   ]
  },
  {
   "cell_type": "code",
   "execution_count": 289,
   "metadata": {},
   "outputs": [],
   "source": [
    "new_data=pd.merge(train,title_data,on=['Webpage_id'],how='left')"
   ]
  },
  {
   "cell_type": "code",
   "execution_count": 293,
   "metadata": {},
   "outputs": [],
   "source": [
    "a=new_data[new_data.Webpage_id==1].Html"
   ]
  },
  {
   "cell_type": "code",
   "execution_count": 296,
   "metadata": {},
   "outputs": [
    {
     "data": {
      "text/plain": [
       "'Tecfidera, Gilenya and Aubagio&#039;s 3-way battle for MS share is about to heat up | FiercePharma'"
      ]
     },
     "execution_count": 296,
     "metadata": {},
     "output_type": "execute_result"
    }
   ],
   "source": [
    "a.iloc[0]"
   ]
  },
  {
   "cell_type": "code",
   "execution_count": 302,
   "metadata": {},
   "outputs": [],
   "source": [
    "titles=[]\n",
    "for e in new_data.Html:    \n",
    "    e = ''.join([i for i in e if not i.isdigit()])\n",
    "    f=''\n",
    "    for i in e:\n",
    "        if i.isalpha() or i==' ':\n",
    "            #print(i)\n",
    "            f+=i\n",
    "        else:\n",
    "            f+=' '\n",
    "    f = re.sub(' +',' ',f) # replace series of spaces with single space\n",
    "    titles.append(f)"
   ]
  },
  {
   "cell_type": "code",
   "execution_count": 303,
   "metadata": {},
   "outputs": [
    {
     "data": {
      "text/plain": [
       "53447"
      ]
     },
     "execution_count": 303,
     "metadata": {},
     "output_type": "execute_result"
    }
   ],
   "source": [
    "len(titles)"
   ]
  },
  {
   "cell_type": "code",
   "execution_count": 305,
   "metadata": {},
   "outputs": [
    {
     "data": {
      "text/plain": [
       "['Tecfidera Gilenya and Aubagio s way battle for MS share is about to heat up FiercePharma',\n",
       " 'Novo equipped to weather the storm in the U S diabetes market CEO says FiercePharma',\n",
       " 'Another exec departs troubled Endo and this time it s for another drugmaker FiercePharma',\n",
       " 'Would Teva buy Korea s Celltrion to beef up in biosimilars It wouldn t say no FiercePharma',\n",
       " 'Restasis maker Allergan recruits actress Marisa Tomei to drive dry eye awareness FiercePharma',\n",
       " 'NICE backs less effective Otezla to give psoriatic arthritis patients a pill option FiercePharma',\n",
       " 'Mylan takes on punching bag role again as Clinton aims to shame bad actors FiercePharma',\n",
       " 'Failed Eylea combo trial throws a wrench in Regeneron s expansion effort FiercePharma',\n",
       " 'Should GSK investors be disgruntled about its insider CEO pick If they want big changes yes FiercePharma',\n",
       " 'A silver lining to the drug pricing uproar For generic competition yes GPhA chief says FiercePharma']"
      ]
     },
     "execution_count": 305,
     "metadata": {},
     "output_type": "execute_result"
    }
   ],
   "source": [
    "titles[:10]"
   ]
  },
  {
   "cell_type": "code",
   "execution_count": 306,
   "metadata": {},
   "outputs": [],
   "source": [
    "new_data_test=pd.merge(test,title_data,on=['Webpage_id'],how='left')"
   ]
  },
  {
   "cell_type": "code",
   "execution_count": 307,
   "metadata": {},
   "outputs": [
    {
     "name": "stdout",
     "output_type": "stream",
     "text": [
      "<class 'pandas.core.frame.DataFrame'>\n",
      "Int64Index: 25787 entries, 0 to 25786\n",
      "Data columns (total 4 columns):\n",
      "Webpage_id    25787 non-null int64\n",
      "Domain        25787 non-null object\n",
      "Url           25787 non-null object\n",
      "Html          25787 non-null object\n",
      "dtypes: int64(1), object(3)\n",
      "memory usage: 1007.3+ KB\n"
     ]
    }
   ],
   "source": [
    "new_data_test.info()"
   ]
  },
  {
   "cell_type": "code",
   "execution_count": null,
   "metadata": {},
   "outputs": [],
   "source": []
  }
 ],
 "metadata": {
  "kernelspec": {
   "display_name": "Python 3",
   "language": "python",
   "name": "python3"
  },
  "language_info": {
   "codemirror_mode": {
    "name": "ipython",
    "version": 3
   },
   "file_extension": ".py",
   "mimetype": "text/x-python",
   "name": "python",
   "nbconvert_exporter": "python",
   "pygments_lexer": "ipython3",
   "version": "3.6.4"
  }
 },
 "nbformat": 4,
 "nbformat_minor": 2
}
