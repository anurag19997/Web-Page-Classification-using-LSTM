{
 "cells": [
  {
   "cell_type": "code",
   "execution_count": 1,
   "metadata": {},
   "outputs": [],
   "source": [
    "import pandas as pd\n",
    "import numpy as np\n",
    "import matplotlib.pyplot as plt\n",
    "import seaborn as sb\n",
    "import re\n",
    "import nltk\n",
    "from sklearn.feature_extraction.text import CountVectorizer\n",
    "from sklearn.feature_extraction.text import TfidfTransformer\n",
    "from sklearn.pipeline import Pipeline\n",
    "from sklearn.naive_bayes import MultinomialNB\n",
    "from random import shuffle\n",
    "import zipfile\n",
    "from sklearn.model_selection import train_test_split\n",
    "import pickle\n",
    "\n",
    "pd.set_option('display.max_colwidth', -1)"
   ]
  },
  {
   "cell_type": "code",
   "execution_count": 2,
   "metadata": {},
   "outputs": [],
   "source": [
    "train=pd.read_csv('train.csv')"
   ]
  },
  {
   "cell_type": "code",
   "execution_count": 3,
   "metadata": {},
   "outputs": [],
   "source": [
    "def preprocess(url,title):\n",
    "    \n",
    "    pattern=r'//.*'\n",
    "    urls=[]\n",
    "    for i in url:\n",
    "        b=re.findall(pattern,i)\n",
    "        c=b[0][2:]\n",
    "        d=re.split('\\.|/|-|_',c)\n",
    "        e=''\n",
    "        for i in d:\n",
    "            e+=str(i).lower()\n",
    "            e+=' '\n",
    "        e = ''.join([i for i in e if not i.isdigit()])\n",
    "        f=''\n",
    "        for i in e:\n",
    "            if i.isalpha() or i==' ':\n",
    "                f+=i\n",
    "            else:\n",
    "                f+=' '\n",
    "        urls.append(f)\n",
    "        \n",
    "    titles=[]\n",
    "    for e in title:    \n",
    "        e = ''.join([i for i in e if not i.isdigit()])\n",
    "        f=''\n",
    "        for i in e:\n",
    "            if i.isalpha() or i==' ':\n",
    "                #print(i)\n",
    "                f+=i\n",
    "            else:\n",
    "                f+=' '\n",
    "        f = re.sub(' +',' ',f) # replace series of spaces with single space\n",
    "        titles.append(f)\n",
    "    \n",
    "    data=[]\n",
    "    for i in range(len(title)):\n",
    "        s=titles[i]+' '+urls[i]\n",
    "        data.append(str(s)\n",
    "                    \n",
    "    return(data)"
   ]
  },
  {
   "cell_type": "code",
   "execution_count": 4,
   "metadata": {},
   "outputs": [],
   "source": [
    "def preprocess_title():\n",
    "    pattern=r'<title>.*</title>'\n",
    "\n",
    "    zf = zipfile.ZipFile('train.zip') \n",
    "    df = pd.read_csv(zf.open('html_data.csv'),chunksize=1)\n",
    "\n",
    "    title=[]\n",
    "    chunksize = 1\n",
    "    for chunk in pd.read_csv(zf.open('html_data.csv'), chunksize=chunksize):\n",
    "        a=chunk.Html\n",
    "        idd=chunk.Webpage_id\n",
    "        c=re.findall(pattern,a.iloc[0])\n",
    "        if len(c)!=0:\n",
    "            title.append([idd.iloc[0],c[0][7:-8]])\n",
    "        else:\n",
    "            title.append([idd.iloc[0],' '])\n",
    "    return(title)"
   ]
  },
  {
   "cell_type": "code",
   "execution_count": 5,
   "metadata": {},
   "outputs": [
    {
     "name": "stdout",
     "output_type": "stream",
     "text": [
      "Wall time: 12min 47s\n"
     ]
    }
   ],
   "source": [
    "%%time\n",
    "title=preprocess_title()"
   ]
  },
  {
   "cell_type": "code",
   "execution_count": 7,
   "metadata": {},
   "outputs": [],
   "source": [
    "title_data=pd.DataFrame(title)\n",
    "title_data.columns=['Webpage_id','Html']\n",
    "\n",
    "new_data=pd.merge(train,title_data,on=['Webpage_id'],how='left')\n",
    "new_data.to_csv('processed_train_data.csv',index=False)"
   ]
  },
  {
   "cell_type": "code",
   "execution_count": null,
   "metadata": {},
   "outputs": [],
   "source": []
  },
  {
   "cell_type": "code",
   "execution_count": null,
   "metadata": {},
   "outputs": [],
   "source": []
  },
  {
   "cell_type": "code",
   "execution_count": null,
   "metadata": {},
   "outputs": [],
   "source": []
  },
  {
   "cell_type": "code",
   "execution_count": 5,
   "metadata": {},
   "outputs": [],
   "source": [
    "data=pd.read_csv('processed_train_data.csv',lineterminator='\\n')"
   ]
  },
  {
   "cell_type": "code",
   "execution_count": 6,
   "metadata": {},
   "outputs": [
    {
     "data": {
      "text/html": [
       "<div>\n",
       "<style scoped>\n",
       "    .dataframe tbody tr th:only-of-type {\n",
       "        vertical-align: middle;\n",
       "    }\n",
       "\n",
       "    .dataframe tbody tr th {\n",
       "        vertical-align: top;\n",
       "    }\n",
       "\n",
       "    .dataframe thead th {\n",
       "        text-align: right;\n",
       "    }\n",
       "</style>\n",
       "<table border=\"1\" class=\"dataframe\">\n",
       "  <thead>\n",
       "    <tr style=\"text-align: right;\">\n",
       "      <th></th>\n",
       "      <th>Webpage_id</th>\n",
       "      <th>Domain</th>\n",
       "      <th>Url</th>\n",
       "      <th>Tag</th>\n",
       "      <th>Html</th>\n",
       "    </tr>\n",
       "  </thead>\n",
       "  <tbody>\n",
       "    <tr>\n",
       "      <th>0</th>\n",
       "      <td>1</td>\n",
       "      <td>www.fiercepharma.com</td>\n",
       "      <td>http://www.fiercepharma.com/marketing/tecfidera-gilenya-and-aubagio-s-3-way-battle-for-ms-share-about-to-get-more-interesting</td>\n",
       "      <td>news</td>\n",
       "      <td>Tecfidera, Gilenya and Aubagio&amp;#039;s 3-way battle for MS share is about to heat up | FiercePharma\\r</td>\n",
       "    </tr>\n",
       "    <tr>\n",
       "      <th>1</th>\n",
       "      <td>2</td>\n",
       "      <td>www.fiercepharma.com</td>\n",
       "      <td>http://www.fiercepharma.com/pharma/novo-equipped-to-weather-storm-u-s-diabetes-market-ceo-says</td>\n",
       "      <td>news</td>\n",
       "      <td>Novo equipped to weather the storm in the U.S. diabetes market, CEO says | FiercePharma\\r</td>\n",
       "    </tr>\n",
       "    <tr>\n",
       "      <th>2</th>\n",
       "      <td>3</td>\n",
       "      <td>www.fiercepharma.com</td>\n",
       "      <td>http://www.fiercepharma.com/pharma/another-exec-departs-troubled-endo-and-time-it-s-for-another-drugmaker</td>\n",
       "      <td>news</td>\n",
       "      <td>Another exec departs troubled Endo--and this time, it&amp;#039;s for another drugmaker | FiercePharma\\r</td>\n",
       "    </tr>\n",
       "    <tr>\n",
       "      <th>3</th>\n",
       "      <td>4</td>\n",
       "      <td>www.fiercepharma.com</td>\n",
       "      <td>http://www.fiercepharma.com/pharma/teva-buy-biosim-specialist-celltrion-it-wouldn-t-say-no</td>\n",
       "      <td>news</td>\n",
       "      <td>Would Teva buy Korea&amp;#039;s Celltrion to beef up in biosimilars? It wouldn&amp;#039;t say no | FiercePharma\\r</td>\n",
       "    </tr>\n",
       "    <tr>\n",
       "      <th>4</th>\n",
       "      <td>5</td>\n",
       "      <td>www.fiercepharma.com</td>\n",
       "      <td>http://www.fiercepharma.com/marketing/actress-marissa-tomei-partners-allergan-restasis-to-drive-dry-eye-awareness</td>\n",
       "      <td>news</td>\n",
       "      <td>Restasis-maker Allergan recruits actress Marisa Tomei to drive dry eye awareness | FiercePharma\\r</td>\n",
       "    </tr>\n",
       "  </tbody>\n",
       "</table>\n",
       "</div>"
      ],
      "text/plain": [
       "   Webpage_id                Domain  \\\n",
       "0  1           www.fiercepharma.com   \n",
       "1  2           www.fiercepharma.com   \n",
       "2  3           www.fiercepharma.com   \n",
       "3  4           www.fiercepharma.com   \n",
       "4  5           www.fiercepharma.com   \n",
       "\n",
       "                                                                                                                             Url  \\\n",
       "0  http://www.fiercepharma.com/marketing/tecfidera-gilenya-and-aubagio-s-3-way-battle-for-ms-share-about-to-get-more-interesting   \n",
       "1  http://www.fiercepharma.com/pharma/novo-equipped-to-weather-storm-u-s-diabetes-market-ceo-says                                  \n",
       "2  http://www.fiercepharma.com/pharma/another-exec-departs-troubled-endo-and-time-it-s-for-another-drugmaker                       \n",
       "3  http://www.fiercepharma.com/pharma/teva-buy-biosim-specialist-celltrion-it-wouldn-t-say-no                                      \n",
       "4  http://www.fiercepharma.com/marketing/actress-marissa-tomei-partners-allergan-restasis-to-drive-dry-eye-awareness               \n",
       "\n",
       "    Tag  \\\n",
       "0  news   \n",
       "1  news   \n",
       "2  news   \n",
       "3  news   \n",
       "4  news   \n",
       "\n",
       "                                                                                                      Html\\r  \n",
       "0  Tecfidera, Gilenya and Aubagio&#039;s 3-way battle for MS share is about to heat up | FiercePharma\\r       \n",
       "1  Novo equipped to weather the storm in the U.S. diabetes market, CEO says | FiercePharma\\r                  \n",
       "2  Another exec departs troubled Endo--and this time, it&#039;s for another drugmaker | FiercePharma\\r        \n",
       "3  Would Teva buy Korea&#039;s Celltrion to beef up in biosimilars? It wouldn&#039;t say no | FiercePharma\\r  \n",
       "4  Restasis-maker Allergan recruits actress Marisa Tomei to drive dry eye awareness | FiercePharma\\r          "
      ]
     },
     "execution_count": 6,
     "metadata": {},
     "output_type": "execute_result"
    }
   ],
   "source": [
    "data.head()"
   ]
  },
  {
   "cell_type": "code",
   "execution_count": 7,
   "metadata": {},
   "outputs": [
    {
     "data": {
      "text/plain": [
       "Index(['Webpage_id', 'Domain', 'Url', 'Tag', 'Html\\r'], dtype='object')"
      ]
     },
     "execution_count": 7,
     "metadata": {},
     "output_type": "execute_result"
    }
   ],
   "source": [
    "data.columns"
   ]
  },
  {
   "cell_type": "code",
   "execution_count": 8,
   "metadata": {},
   "outputs": [],
   "source": [
    "def train_val_split(train):\n",
    "    grp=train.groupby('Tag')\n",
    "    \n",
    "    test_set=[]\n",
    "    train_set=[]\n",
    "    test_tag_set=[]\n",
    "    train_tag_set=[]\n",
    "    count=0\n",
    "    for unique_tags in train.Tag.unique():\n",
    "        tag=grp.get_group(unique_tags)\n",
    "        s=set(tag.Domain)\n",
    "        count+=len(s)\n",
    "        a=list(s)\n",
    "        #shuffle(a)\n",
    "        for i in range(len(a)):\n",
    "            if (i+1)%3==0:\n",
    "                test_set.append(a[i])\n",
    "                test_tag_set.append(unique_tags)\n",
    "            else:\n",
    "                train_set.append(a[i])\n",
    "                train_tag_set.append(unique_tags)\n",
    "    \n",
    "    \n",
    "    train_domain=pd.DataFrame(train_set)\n",
    "    train_domain.columns=['Domain']\n",
    "    train_domain['Tag']=train_tag_set\n",
    "    train_data=pd.merge(train_domain,train,on=['Domain','Tag'],how='left')\n",
    "    \n",
    "    val_domain=pd.DataFrame(test_set)\n",
    "    val_domain.columns=['Domain']\n",
    "    val_domain['Tag']=test_tag_set\n",
    "    val_data=pd.merge(val_domain,train,on=['Domain','Tag'],how='left')\n",
    "    \n",
    "    return(train_data,val_data)\n",
    "    "
   ]
  },
  {
   "cell_type": "code",
   "execution_count": 9,
   "metadata": {},
   "outputs": [],
   "source": [
    "train_data,val_data = train_val_split(data)"
   ]
  },
  {
   "cell_type": "code",
   "execution_count": 10,
   "metadata": {},
   "outputs": [],
   "source": [
    "train_urls=preprocess(train_data.Url,train_data['Html\\r'])\n",
    "train_target=train_data.Tag.values\n",
    "\n",
    "val_urls = preprocess(val_data.Url,val_data['Html\\r'])\n",
    "val_target = val_data.Tag.values"
   ]
  },
  {
   "cell_type": "code",
   "execution_count": null,
   "metadata": {},
   "outputs": [],
   "source": []
  },
  {
   "cell_type": "code",
   "execution_count": null,
   "metadata": {},
   "outputs": [],
   "source": []
  },
  {
   "cell_type": "code",
   "execution_count": null,
   "metadata": {},
   "outputs": [],
   "source": []
  },
  {
   "cell_type": "code",
   "execution_count": null,
   "metadata": {},
   "outputs": [],
   "source": []
  },
  {
   "cell_type": "markdown",
   "metadata": {},
   "source": [
    "# SVM"
   ]
  },
  {
   "cell_type": "code",
   "execution_count": 41,
   "metadata": {},
   "outputs": [],
   "source": [
    "from sklearn.linear_model import SGDClassifier"
   ]
  },
  {
   "cell_type": "code",
   "execution_count": 45,
   "metadata": {},
   "outputs": [
    {
     "name": "stderr",
     "output_type": "stream",
     "text": [
      "C:\\Users\\Nishant\\Anaconda3\\lib\\site-packages\\sklearn\\linear_model\\stochastic_gradient.py:117: DeprecationWarning: n_iter parameter is deprecated in 0.19 and will be removed in 0.21. Use max_iter and tol instead.\n",
      "  DeprecationWarning)\n"
     ]
    },
    {
     "name": "stdout",
     "output_type": "stream",
     "text": [
      "Wall time: 1.61 s\n"
     ]
    }
   ],
   "source": [
    "%%time\n",
    "text_clf_svm = Pipeline([('vect', CountVectorizer()), ('tfidf', TfidfTransformer()),\n",
    "                         ('clf-svm', SGDClassifier(loss='hinge', penalty='l2',alpha=0.0001, n_iter=5, random_state=42))])\n",
    "\n",
    "text_clf_svm = text_clf_svm.fit(train_urls, train_target)"
   ]
  },
  {
   "cell_type": "code",
   "execution_count": 46,
   "metadata": {},
   "outputs": [
    {
     "name": "stdout",
     "output_type": "stream",
     "text": [
      "train_score: 0.9683721720417929\n"
     ]
    }
   ],
   "source": [
    "pred_train = text_clf_svm.predict(train_urls)\n",
    "print('train_score:',np.mean(pred_train == train_target))"
   ]
  },
  {
   "cell_type": "code",
   "execution_count": 47,
   "metadata": {},
   "outputs": [
    {
     "name": "stdout",
     "output_type": "stream",
     "text": [
      "0.6977937120794264\n"
     ]
    }
   ],
   "source": [
    "pred_val = text_clf_svm.predict(val_urls)\n",
    "print(np.mean(pred_val == val_target))"
   ]
  },
  {
   "cell_type": "code",
   "execution_count": null,
   "metadata": {},
   "outputs": [],
   "source": []
  },
  {
   "cell_type": "code",
   "execution_count": 29,
   "metadata": {},
   "outputs": [
    {
     "name": "stderr",
     "output_type": "stream",
     "text": [
      "C:\\Users\\Nishant\\Anaconda3\\lib\\site-packages\\sklearn\\linear_model\\stochastic_gradient.py:117: DeprecationWarning: n_iter parameter is deprecated in 0.19 and will be removed in 0.21. Use max_iter and tol instead.\n",
      "  DeprecationWarning)\n"
     ]
    },
    {
     "data": {
      "text/plain": [
       "{'clf-svm__alpha': 0.001, 'tfidf__use_idf': True, 'vect__ngram_range': (1, 2)}"
      ]
     },
     "execution_count": 29,
     "metadata": {},
     "output_type": "execute_result"
    }
   ],
   "source": [
    "from sklearn.model_selection import GridSearchCV\n",
    "parameters_svm = {'vect__ngram_range': [(1, 1), (1, 2)], 'tfidf__use_idf': (True, False),'clf-svm__alpha': (1e-2, 1e-3)}\n",
    "\n",
    "gs_clf_svm = GridSearchCV(text_clf_svm, parameters_svm, n_jobs=-1)\n",
    "gs_clf_svm = gs_clf_svm.fit(urls, target)\n",
    "\n",
    "\n",
    "gs_clf_svm.best_score_\n",
    "gs_clf_svm.best_params_"
   ]
  },
  {
   "cell_type": "code",
   "execution_count": null,
   "metadata": {},
   "outputs": [],
   "source": []
  }
 ],
 "metadata": {
  "kernelspec": {
   "display_name": "Python 3",
   "language": "python",
   "name": "python3"
  },
  "language_info": {
   "codemirror_mode": {
    "name": "ipython",
    "version": 3
   },
   "file_extension": ".py",
   "mimetype": "text/x-python",
   "name": "python",
   "nbconvert_exporter": "python",
   "pygments_lexer": "ipython3",
   "version": "3.7.0"
  }
 },
 "nbformat": 4,
 "nbformat_minor": 2
}
