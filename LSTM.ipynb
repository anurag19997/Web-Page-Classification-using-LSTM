{
  "nbformat": 4,
  "nbformat_minor": 0,
  "metadata": {
    "colab": {
      "name": "LSTM.ipynb",
      "version": "0.3.2",
      "provenance": [],
      "toc_visible": true
    },
    "kernelspec": {
      "display_name": "Python 3",
      "language": "python",
      "name": "python3"
    }
  },
  "cells": [
    {
      "metadata": {
        "id": "zRyEsbYWhDXY",
        "colab_type": "code",
        "colab": {}
      },
      "cell_type": "code",
      "source": [
        "import pandas as pd\n",
        "import numpy as np\n",
        "import matplotlib.pyplot as plt\n",
        "import re\n",
        "import string\n",
        "from sklearn.model_selection import train_test_split\n",
        "from sklearn.preprocessing import OneHotEncoder\n",
        "from sklearn.model_selection import train_test_split\n",
        "import pickle\n",
        "from gensim.models import Word2Vec\n",
        "import gensim\n",
        "import nltk\n",
        "from random import shuffle\n",
        "import zipfile\n",
        "from sklearn.model_selection import train_test_split\n",
        "\n",
        "pd.set_option('display.max_colwidth', -1)\n"
      ],
      "execution_count": 0,
      "outputs": []
    },
    {
      "metadata": {
        "id": "JP28Y2rthDXi",
        "colab_type": "code",
        "colab": {
          "base_uri": "https://localhost:8080/",
          "height": 51
        },
        "outputId": "2fd9e99f-a9ad-4dec-f040-1e81f5d9503d"
      },
      "cell_type": "code",
      "source": [
        "%%time\n",
        "import theano\n",
        "import os\n",
        "os.environ['KERAS_BACKEND'] = 'theano'"
      ],
      "execution_count": 7,
      "outputs": [
        {
          "output_type": "stream",
          "text": [
            "CPU times: user 24 µs, sys: 6 µs, total: 30 µs\n",
            "Wall time: 34.3 µs\n"
          ],
          "name": "stdout"
        }
      ]
    },
    {
      "metadata": {
        "id": "5N6RC5EphDX5",
        "colab_type": "code",
        "colab": {}
      },
      "cell_type": "code",
      "source": [
        "import numpy as np\n",
        "np.random.seed(0)\n",
        "from keras.models import Model\n",
        "from keras.layers import Dense, Input, Dropout, LSTM, Activation, Flatten\n",
        "from keras.layers.embeddings import Embedding\n",
        "from keras.preprocessing import sequence\n",
        "from keras.initializers import glorot_uniform\n",
        "from keras.utils import to_categorical"
      ],
      "execution_count": 0,
      "outputs": []
    },
    {
      "metadata": {
        "id": "ESLO4LUBhDYA",
        "colab_type": "code",
        "colab": {}
      },
      "cell_type": "code",
      "source": [
        "train=pd.read_csv('train.csv')"
      ],
      "execution_count": 0,
      "outputs": []
    },
    {
      "metadata": {
        "id": "1uaigj5ohDYH",
        "colab_type": "code",
        "colab": {}
      },
      "cell_type": "code",
      "source": [
        "tag=sorted(train.Tag.unique())\n",
        "tagmapping=dict(zip(tag,np.arange(0,len(tag))))\n",
        "train['Tag']=train['Tag'].map(tagmapping).astype(int)"
      ],
      "execution_count": 0,
      "outputs": []
    },
    {
      "metadata": {
        "id": "uigIjI-xhDYM",
        "colab_type": "code",
        "colab": {}
      },
      "cell_type": "code",
      "source": [
        "def preprocess(url,title):\n",
        "    \n",
        "    pattern=r'//.*'\n",
        "    urls=[]\n",
        "    for i in url:\n",
        "        b=re.findall(pattern,i)\n",
        "        c=b[0][2:]\n",
        "        d=re.split('\\.|/|-|_',c)\n",
        "        e=''\n",
        "        for i in d:\n",
        "            e+=str(i).lower()\n",
        "            e+=' '\n",
        "        e = ''.join([i for i in e if not i.isdigit()])\n",
        "        f=''\n",
        "        for i in e:\n",
        "            if i.isalpha() or i==' ':\n",
        "                f+=i\n",
        "            else:\n",
        "                f+=' '\n",
        "        urls.append(f)\n",
        "        \n",
        "    titles=[]\n",
        "    for e in title:    \n",
        "        e = ''.join([i for i in e if not i.isdigit()])\n",
        "        f=''\n",
        "        for i in e:\n",
        "            if i.isalpha() or i==' ':\n",
        "                #print(i)\n",
        "                f+=i\n",
        "            else:\n",
        "                f+=' '\n",
        "        f = re.sub(' +',' ',f) # replace series of spaces with single space\n",
        "        titles.append(f)\n",
        "    \n",
        "    data=[]\n",
        "    for i in range(len(title)):\n",
        "        s=titles[i]+' '+urls[i]\n",
        "        data.append(str(s))\n",
        "                    \n",
        "    return(data)"
      ],
      "execution_count": 0,
      "outputs": []
    },
    {
      "metadata": {
        "id": "tGymQ0RshkjV",
        "colab_type": "text"
      },
      "cell_type": "markdown",
      "source": [
        "# New Section"
      ]
    },
    {
      "metadata": {
        "id": "XXDH2YnBhDYR",
        "colab_type": "code",
        "colab": {}
      },
      "cell_type": "code",
      "source": [
        "def preprocess_title():\n",
        "    pattern=r'<title>.*</title>'\n",
        "\n",
        "    zf = zipfile.ZipFile('train.zip') \n",
        "    df = pd.read_csv(zf.open('html_data.csv'),chunksize=1)\n",
        "\n",
        "    title=[]\n",
        "    chunksize = 1\n",
        "    for chunk in pd.read_csv(zf.open('html_data.csv'), chunksize=chunksize):\n",
        "        a=chunk.Html\n",
        "        idd=chunk.Webpage_id\n",
        "        c=re.findall(pattern,a.iloc[0])\n",
        "        if len(c)!=0:\n",
        "            title.append([idd.iloc[0],c[0][7:-8]])\n",
        "        else:\n",
        "            title.append([idd.iloc[0],' '])\n",
        "    return(title)"
      ],
      "execution_count": 0,
      "outputs": []
    },
    {
      "metadata": {
        "id": "brnUhjslhDYZ",
        "colab_type": "code",
        "colab": {
          "base_uri": "https://localhost:8080/",
          "height": 51
        },
        "outputId": "04da225d-85b2-405e-b55b-c63719a69372"
      },
      "cell_type": "code",
      "source": [
        "%%time\n",
        "#title=preprocess_title()"
      ],
      "execution_count": 35,
      "outputs": [
        {
          "output_type": "stream",
          "text": [
            "CPU times: user 2 µs, sys: 1 µs, total: 3 µs\n",
            "Wall time: 5.25 µs\n"
          ],
          "name": "stdout"
        }
      ]
    },
    {
      "metadata": {
        "id": "sxXUF5aJhDYh",
        "colab_type": "code",
        "colab": {}
      },
      "cell_type": "code",
      "source": [
        "# title_data=pd.DataFrame(title)\n",
        "# title_data.columns=['Webpage_id','Html']\n",
        "\n",
        "# new_data=pd.merge(train,title_data,on=['Webpage_id'],how='left')\n",
        "# new_data.to_csv('processed_train_data.csv',index=False)"
      ],
      "execution_count": 0,
      "outputs": []
    },
    {
      "metadata": {
        "id": "E7DvLgnOhDYn",
        "colab_type": "code",
        "colab": {}
      },
      "cell_type": "code",
      "source": [
        "data=pd.read_csv('processed_train_data.csv',lineterminator='\\n')"
      ],
      "execution_count": 0,
      "outputs": []
    },
    {
      "metadata": {
        "id": "JPfrJzq0hDYq",
        "colab_type": "code",
        "colab": {}
      },
      "cell_type": "code",
      "source": [
        "tag=sorted(data.Tag.unique())\n",
        "tagmapping=dict(zip(tag,np.arange(0,len(tag))))\n",
        "data['Tag']=data['Tag'].map(tagmapping).astype(int)"
      ],
      "execution_count": 0,
      "outputs": []
    },
    {
      "metadata": {
        "id": "Bew6_m0phDYu",
        "colab_type": "code",
        "colab": {
          "base_uri": "https://localhost:8080/",
          "height": 408
        },
        "outputId": "61bebf75-d486-448a-b8d2-e0d51c5420a2"
      },
      "cell_type": "code",
      "source": [
        "data.head()"
      ],
      "execution_count": 39,
      "outputs": [
        {
          "output_type": "execute_result",
          "data": {
            "text/html": [
              "<div>\n",
              "<style scoped>\n",
              "    .dataframe tbody tr th:only-of-type {\n",
              "        vertical-align: middle;\n",
              "    }\n",
              "\n",
              "    .dataframe tbody tr th {\n",
              "        vertical-align: top;\n",
              "    }\n",
              "\n",
              "    .dataframe thead th {\n",
              "        text-align: right;\n",
              "    }\n",
              "</style>\n",
              "<table border=\"1\" class=\"dataframe\">\n",
              "  <thead>\n",
              "    <tr style=\"text-align: right;\">\n",
              "      <th></th>\n",
              "      <th>Webpage_id</th>\n",
              "      <th>Domain</th>\n",
              "      <th>Url</th>\n",
              "      <th>Tag</th>\n",
              "      <th>Html</th>\n",
              "    </tr>\n",
              "  </thead>\n",
              "  <tbody>\n",
              "    <tr>\n",
              "      <th>0</th>\n",
              "      <td>1</td>\n",
              "      <td>www.fiercepharma.com</td>\n",
              "      <td>http://www.fiercepharma.com/marketing/tecfidera-gilenya-and-aubagio-s-3-way-battle-for-ms-share-about-to-get-more-interesting</td>\n",
              "      <td>4</td>\n",
              "      <td>Tecfidera, Gilenya and Aubagio&amp;#039;s 3-way battle for MS share is about to heat up | FiercePharma\\r</td>\n",
              "    </tr>\n",
              "    <tr>\n",
              "      <th>1</th>\n",
              "      <td>2</td>\n",
              "      <td>www.fiercepharma.com</td>\n",
              "      <td>http://www.fiercepharma.com/pharma/novo-equipped-to-weather-storm-u-s-diabetes-market-ceo-says</td>\n",
              "      <td>4</td>\n",
              "      <td>Novo equipped to weather the storm in the U.S. diabetes market, CEO says | FiercePharma\\r</td>\n",
              "    </tr>\n",
              "    <tr>\n",
              "      <th>2</th>\n",
              "      <td>3</td>\n",
              "      <td>www.fiercepharma.com</td>\n",
              "      <td>http://www.fiercepharma.com/pharma/another-exec-departs-troubled-endo-and-time-it-s-for-another-drugmaker</td>\n",
              "      <td>4</td>\n",
              "      <td>Another exec departs troubled Endo--and this time, it&amp;#039;s for another drugmaker | FiercePharma\\r</td>\n",
              "    </tr>\n",
              "    <tr>\n",
              "      <th>3</th>\n",
              "      <td>4</td>\n",
              "      <td>www.fiercepharma.com</td>\n",
              "      <td>http://www.fiercepharma.com/pharma/teva-buy-biosim-specialist-celltrion-it-wouldn-t-say-no</td>\n",
              "      <td>4</td>\n",
              "      <td>Would Teva buy Korea&amp;#039;s Celltrion to beef up in biosimilars? It wouldn&amp;#039;t say no | FiercePharma\\r</td>\n",
              "    </tr>\n",
              "    <tr>\n",
              "      <th>4</th>\n",
              "      <td>5</td>\n",
              "      <td>www.fiercepharma.com</td>\n",
              "      <td>http://www.fiercepharma.com/marketing/actress-marissa-tomei-partners-allergan-restasis-to-drive-dry-eye-awareness</td>\n",
              "      <td>4</td>\n",
              "      <td>Restasis-maker Allergan recruits actress Marisa Tomei to drive dry eye awareness | FiercePharma\\r</td>\n",
              "    </tr>\n",
              "  </tbody>\n",
              "</table>\n",
              "</div>"
            ],
            "text/plain": [
              "   Webpage_id                Domain  \\\n",
              "0  1           www.fiercepharma.com   \n",
              "1  2           www.fiercepharma.com   \n",
              "2  3           www.fiercepharma.com   \n",
              "3  4           www.fiercepharma.com   \n",
              "4  5           www.fiercepharma.com   \n",
              "\n",
              "                                                                                                                             Url  \\\n",
              "0  http://www.fiercepharma.com/marketing/tecfidera-gilenya-and-aubagio-s-3-way-battle-for-ms-share-about-to-get-more-interesting   \n",
              "1  http://www.fiercepharma.com/pharma/novo-equipped-to-weather-storm-u-s-diabetes-market-ceo-says                                  \n",
              "2  http://www.fiercepharma.com/pharma/another-exec-departs-troubled-endo-and-time-it-s-for-another-drugmaker                       \n",
              "3  http://www.fiercepharma.com/pharma/teva-buy-biosim-specialist-celltrion-it-wouldn-t-say-no                                      \n",
              "4  http://www.fiercepharma.com/marketing/actress-marissa-tomei-partners-allergan-restasis-to-drive-dry-eye-awareness               \n",
              "\n",
              "   Tag  \\\n",
              "0  4     \n",
              "1  4     \n",
              "2  4     \n",
              "3  4     \n",
              "4  4     \n",
              "\n",
              "                                                                                                      Html\\r  \n",
              "0  Tecfidera, Gilenya and Aubagio&#039;s 3-way battle for MS share is about to heat up | FiercePharma\\r       \n",
              "1  Novo equipped to weather the storm in the U.S. diabetes market, CEO says | FiercePharma\\r                  \n",
              "2  Another exec departs troubled Endo--and this time, it&#039;s for another drugmaker | FiercePharma\\r        \n",
              "3  Would Teva buy Korea&#039;s Celltrion to beef up in biosimilars? It wouldn&#039;t say no | FiercePharma\\r  \n",
              "4  Restasis-maker Allergan recruits actress Marisa Tomei to drive dry eye awareness | FiercePharma\\r          "
            ]
          },
          "metadata": {
            "tags": []
          },
          "execution_count": 39
        }
      ]
    },
    {
      "metadata": {
        "id": "lHMWJykghDYz",
        "colab_type": "code",
        "colab": {}
      },
      "cell_type": "code",
      "source": [
        "def train_val_split(train):\n",
        "    grp=train.groupby('Tag')\n",
        "    \n",
        "    test_set=[]\n",
        "    train_set=[]\n",
        "    test_tag_set=[]\n",
        "    train_tag_set=[]\n",
        "    count=0\n",
        "    for unique_tags in train.Tag.unique():\n",
        "        tag=grp.get_group(unique_tags)\n",
        "        s=set(tag.Domain)\n",
        "        count+=len(s)\n",
        "        a=list(s)\n",
        "        #shuffle(a)\n",
        "        for i in range(len(a)):\n",
        "            if (i+1)%3==0:\n",
        "                test_set.append(a[i])\n",
        "                test_tag_set.append(unique_tags)\n",
        "            else:\n",
        "                train_set.append(a[i])\n",
        "                train_tag_set.append(unique_tags)\n",
        "    \n",
        "    \n",
        "    train_domain=pd.DataFrame(train_set)\n",
        "    train_domain.columns=['Domain']\n",
        "    train_domain['Tag']=train_tag_set\n",
        "    train_data=pd.merge(train_domain,train,on=['Domain','Tag'],how='left')\n",
        "    \n",
        "    val_domain=pd.DataFrame(test_set)\n",
        "    val_domain.columns=['Domain']\n",
        "    val_domain['Tag']=test_tag_set\n",
        "    val_data=pd.merge(val_domain,train,on=['Domain','Tag'],how='left')\n",
        "    \n",
        "    return(train_data,val_data)\n",
        "    "
      ],
      "execution_count": 0,
      "outputs": []
    },
    {
      "metadata": {
        "id": "9c4YEL17hDY4",
        "colab_type": "code",
        "colab": {}
      },
      "cell_type": "code",
      "source": [
        "train_data,val_data = train_val_split(data)"
      ],
      "execution_count": 0,
      "outputs": []
    },
    {
      "metadata": {
        "id": "7AZ8Vu6MhDY8",
        "colab_type": "code",
        "colab": {}
      },
      "cell_type": "code",
      "source": [
        "train_urls=preprocess(train_data.Url,train_data['Html\\r'])\n",
        "train_target=train_data.Tag.values\n",
        "\n",
        "val_urls = preprocess(val_data.Url,val_data['Html\\r'])\n",
        "val_target = val_data.Tag.values"
      ],
      "execution_count": 0,
      "outputs": []
    },
    {
      "metadata": {
        "id": "3wVAdWOjhDY_",
        "colab_type": "code",
        "colab": {}
      },
      "cell_type": "code",
      "source": [
        "def more_prep(urls):\n",
        "    url=[]\n",
        "    stop_words = set(['','i', 'me', 'my', 'myself', 'we', 'our', 'ours', 'ourselves', 'you', \"you're\", \"you've\", \"you'll\", \"you'd\", 'your', 'yours', 'yourself', 'yourselves', 'he', 'him', 'his', 'himself', 'she', \"she's\", 'her', 'hers', 'herself', 'it', \"it's\", 'its', 'itself', 'they', 'them', 'their', 'theirs', 'themselves', 'what', 'which', 'who', 'whom', 'this', 'that', \"that'll\", 'these', 'those', 'am', 'is', 'are', 'was', 'were', 'be', 'been', 'being', 'have', 'has', 'had', 'having', 'do', 'does', 'did', 'doing', 'a', 'an', 'the', 'and', 'but', 'if', 'or', 'because', 'as', 'until', 'while', 'of', 'at', 'by', 'for', 'with', 'about', 'against', 'between', 'into', 'through', 'during', 'before', 'after', 'above', 'below', 'to', 'from', 'up', 'down', 'in', 'out', 'on', 'off', 'over', 'under', 'again', 'further', 'then', 'once', 'here', 'there', 'when', 'where', 'why', 'how', 'all', 'any', 'both', 'each', 'few', 'more', 'most', 'other', 'some', 'such', 'no', 'nor', 'not', 'only', 'own', 'same', 'so', 'than', 'too', 'very', 's', 't', 'can', 'will', 'just', 'don', \"don't\", 'should', \"should've\", 'now', 'd', 'll', 'm', 'o', 're', 've', 'y', 'ain', 'aren', \"aren't\", 'couldn', \"couldn't\", 'didn', \"didn't\", 'doesn', \"doesn't\", 'hadn', \"hadn't\", 'hasn', \"hasn't\", 'haven', \"haven't\", 'isn', \"isn't\", 'ma', 'mightn', \"mightn't\", 'mustn', \"mustn't\", 'needn', \"needn't\", 'shan', \"shan't\", 'shouldn', \"shouldn't\", 'wasn', \"wasn't\", 'weren', \"weren't\", 'won', \"won't\", 'wouldn', \"wouldn't\"]) \n",
        "\n",
        "    for i in urls:\n",
        "        c = re.sub(r\"[^a-z A-Z]+\", \"\", i)\n",
        "        words = c.split(' ')\n",
        "        filtered_sentence = [w for w in words if not w in stop_words]   \n",
        "        url.append(filtered_sentence)\n",
        "        \n",
        "    return(url)"
      ],
      "execution_count": 0,
      "outputs": []
    },
    {
      "metadata": {
        "id": "gZou5vYmhDZE",
        "colab_type": "code",
        "colab": {}
      },
      "cell_type": "code",
      "source": [
        "train_url=more_prep(train_urls)\n",
        "val_url=more_prep(train_urls)"
      ],
      "execution_count": 0,
      "outputs": []
    },
    {
      "metadata": {
        "id": "p-fNBbpGhDZJ",
        "colab_type": "code",
        "colab": {}
      },
      "cell_type": "code",
      "source": [
        "def ohe(target):\n",
        "    n=np.arange(0,9).reshape((-1,1))\n",
        "    #print(n)\n",
        "    enc = OneHotEncoder(handle_unknown='ignore')\n",
        "    enc.fit(n)\n",
        "    y_enc=enc.transform(np.array(target).reshape((target.shape[0],1))).toarray()\n",
        "    return(y_enc)"
      ],
      "execution_count": 0,
      "outputs": []
    },
    {
      "metadata": {
        "scrolled": true,
        "id": "GRCgjYz3hDZN",
        "colab_type": "code",
        "colab": {
          "base_uri": "https://localhost:8080/",
          "height": 34
        },
        "outputId": "13796e85-8294-4361-a935-54cc07590496"
      },
      "cell_type": "code",
      "source": [
        "train_target.shape"
      ],
      "execution_count": 46,
      "outputs": [
        {
          "output_type": "execute_result",
          "data": {
            "text/plain": [
              "(35281,)"
            ]
          },
          "metadata": {
            "tags": []
          },
          "execution_count": 46
        }
      ]
    },
    {
      "metadata": {
        "id": "zTyXj4uzhDZX",
        "colab_type": "code",
        "colab": {}
      },
      "cell_type": "code",
      "source": [
        "y_train_ohe=to_categorical(train_target, num_classes=9)\n",
        "y_val_ohe=to_categorical(val_target, num_classes=9)"
      ],
      "execution_count": 0,
      "outputs": []
    },
    {
      "metadata": {
        "id": "v74soPL2jzAh",
        "colab_type": "code",
        "colab": {}
      },
      "cell_type": "code",
      "source": [
        ""
      ],
      "execution_count": 0,
      "outputs": []
    },
    {
      "metadata": {
        "id": "TNy5X9izhDZa",
        "colab_type": "code",
        "colab": {
          "base_uri": "https://localhost:8080/",
          "height": 34
        },
        "outputId": "c079aa65-baae-48f1-cb20-d7ec5d2acccc"
      },
      "cell_type": "code",
      "source": [
        "with open('urls.pkl', 'rb') as f:\n",
        "    urls = pickle.load(f)\n",
        "len(urls)"
      ],
      "execution_count": 50,
      "outputs": [
        {
          "output_type": "execute_result",
          "data": {
            "text/plain": [
              "53447"
            ]
          },
          "metadata": {
            "tags": []
          },
          "execution_count": 50
        }
      ]
    },
    {
      "metadata": {
        "id": "7cyiDrTrhDZe",
        "colab_type": "code",
        "colab": {}
      },
      "cell_type": "code",
      "source": [
        "url=more_prep(urls)"
      ],
      "execution_count": 0,
      "outputs": []
    },
    {
      "metadata": {
        "id": "SJjWt34RhDZi",
        "colab_type": "code",
        "colab": {}
      },
      "cell_type": "code",
      "source": [
        "mod = Word2Vec(url)"
      ],
      "execution_count": 0,
      "outputs": []
    },
    {
      "metadata": {
        "id": "uwUAsP-9hDZm",
        "colab_type": "code",
        "colab": {
          "base_uri": "https://localhost:8080/",
          "height": 34
        },
        "outputId": "071a4e09-177e-4855-9421-bbe3aca8bab3"
      },
      "cell_type": "code",
      "source": [
        "len(mod.wv.vocab)"
      ],
      "execution_count": 53,
      "outputs": [
        {
          "output_type": "execute_result",
          "data": {
            "text/plain": [
              "14068"
            ]
          },
          "metadata": {
            "tags": []
          },
          "execution_count": 53
        }
      ]
    },
    {
      "metadata": {
        "id": "HJacFQbXhDZq",
        "colab_type": "text"
      },
      "cell_type": "markdown",
      "source": [
        "# LSTM"
      ]
    },
    {
      "metadata": {
        "id": "bF1DNatFhDZr",
        "colab_type": "code",
        "colab": {}
      },
      "cell_type": "code",
      "source": [
        "def sentences_to_indices(text , mod, max_len):\n",
        "    m = len(text)                                 \n",
        "    text_indices = np.zeros((m, max_len))\n",
        "    \n",
        "    for i in range(m):                      \n",
        "        j = 0\n",
        "        for w in text[i]:\n",
        "            if j==max_len:\n",
        "                break\n",
        "            if w not in mod.wv.vocab:\n",
        "                continue\n",
        "            text_indices[i, j] = mod.wv.vocab[w].index  # Set the (i,j)th entry of X_indices to the index of the correct word.\n",
        "            j = j + 1\n",
        "            \n",
        "    return text_indices\n"
      ],
      "execution_count": 0,
      "outputs": []
    },
    {
      "metadata": {
        "id": "3DazPObJhDZx",
        "colab_type": "code",
        "colab": {}
      },
      "cell_type": "code",
      "source": [
        "def pretrained_embedding_layer(mod):\n",
        "    vocab_len = len(mod.wv.vocab) + 1                 \n",
        "    \n",
        "    emb_dim = mod[\"hi\"].shape[0]\n",
        "    emb_matrix = np.zeros((vocab_len, emb_dim))\n",
        "    \n",
        "    index=0\n",
        "    for word in mod.wv.vocab:\n",
        "        emb_matrix[index, :] = mod[word]\n",
        "        index+=1\n",
        "        \n",
        "    embedding_layer = Embedding(vocab_len, emb_dim)\n",
        "    embedding_layer.build((None,))\n",
        "    embedding_layer.set_weights([emb_matrix])\n",
        "    \n",
        "    return embedding_layer"
      ],
      "execution_count": 0,
      "outputs": []
    },
    {
      "metadata": {
        "id": "TonMfgUUhDZ3",
        "colab_type": "code",
        "colab": {}
      },
      "cell_type": "code",
      "source": [
        "def webpage_model(input_shape,mod):\n",
        "    sentence_indices = Input(shape=input_shape)\n",
        "    embedding_layer =  pretrained_embedding_layer(mod)\n",
        "    embeddings = embedding_layer(sentence_indices)   \n",
        "    X = LSTM(128, return_sequences=True)(embeddings)\n",
        "    X = Dropout(0.5)(X)\n",
        "    #X = Flatten()(X)\n",
        "    X = LSTM(128)(X)\n",
        "    X = Dropout(0.5)(X)  # Add dropout with a probability of 0.5\n",
        "    X = Dense(9, activation='softmax')(X)\n",
        "    X =  Activation('softmax')(X)\n",
        "    model = Model(sentence_indices, X)\n",
        "    return model"
      ],
      "execution_count": 0,
      "outputs": []
    },
    {
      "metadata": {
        "id": "2qGKJXWthDZ7",
        "colab_type": "code",
        "colab": {}
      },
      "cell_type": "code",
      "source": [
        ""
      ],
      "execution_count": 0,
      "outputs": []
    },
    {
      "metadata": {
        "id": "DV4-EN7qhDZ_",
        "colab_type": "code",
        "colab": {}
      },
      "cell_type": "code",
      "source": [
        "max_len=10"
      ],
      "execution_count": 0,
      "outputs": []
    },
    {
      "metadata": {
        "id": "PpKbCJYnhDaC",
        "colab_type": "code",
        "colab": {
          "base_uri": "https://localhost:8080/",
          "height": 547
        },
        "outputId": "dddc5a58-281e-4151-e7ed-5c90fb5b60d6"
      },
      "cell_type": "code",
      "source": [
        "%%time\n",
        "model = webpage_model((max_len,),mod)\n",
        "print(model.summary())"
      ],
      "execution_count": 58,
      "outputs": [
        {
          "output_type": "stream",
          "text": [
            "/usr/local/lib/python3.6/dist-packages/ipykernel_launcher.py:4: DeprecationWarning: Call to deprecated `__getitem__` (Method will be removed in 4.0.0, use self.wv.__getitem__() instead).\n",
            "  after removing the cwd from sys.path.\n",
            "/usr/local/lib/python3.6/dist-packages/ipykernel_launcher.py:9: DeprecationWarning: Call to deprecated `__getitem__` (Method will be removed in 4.0.0, use self.wv.__getitem__() instead).\n",
            "  if __name__ == '__main__':\n"
          ],
          "name": "stderr"
        },
        {
          "output_type": "stream",
          "text": [
            "_________________________________________________________________\n",
            "Layer (type)                 Output Shape              Param #   \n",
            "=================================================================\n",
            "input_1 (InputLayer)         (None, 10)                0         \n",
            "_________________________________________________________________\n",
            "embedding_1 (Embedding)      (None, 10, 100)           1406900   \n",
            "_________________________________________________________________\n",
            "lstm_1 (LSTM)                (None, 10, 128)           117248    \n",
            "_________________________________________________________________\n",
            "dropout_1 (Dropout)          (None, 10, 128)           0         \n",
            "_________________________________________________________________\n",
            "lstm_2 (LSTM)                (None, 128)               131584    \n",
            "_________________________________________________________________\n",
            "dropout_2 (Dropout)          (None, 128)               0         \n",
            "_________________________________________________________________\n",
            "dense_1 (Dense)              (None, 9)                 1161      \n",
            "_________________________________________________________________\n",
            "activation_1 (Activation)    (None, 9)                 0         \n",
            "=================================================================\n",
            "Total params: 1,656,893\n",
            "Trainable params: 1,656,893\n",
            "Non-trainable params: 0\n",
            "_________________________________________________________________\n",
            "None\n",
            "CPU times: user 1.28 s, sys: 321 ms, total: 1.6 s\n",
            "Wall time: 10.4 s\n"
          ],
          "name": "stdout"
        }
      ]
    },
    {
      "metadata": {
        "id": "DRj0cTd0hDaH",
        "colab_type": "code",
        "colab": {
          "base_uri": "https://localhost:8080/",
          "height": 51
        },
        "outputId": "008c6f14-ece0-4b08-da94-cb919cc3e372"
      },
      "cell_type": "code",
      "source": [
        "%%time\n",
        "from keras import optimizers\n",
        "#Keras default : lr=0.001, beta_1=0.9, beta_2=0.999, epsilon=1e-08, decay=0.0.\n",
        "#adm = optimizers.Adam(lr=0.001, beta_1=0.9, beta_2=0.999, epsilon=None, decay=0.0, amsgrad=False)\n",
        "model.compile(loss='categorical_crossentropy', optimizer='adam' , metrics=['accuracy'])\n"
      ],
      "execution_count": 59,
      "outputs": [
        {
          "output_type": "stream",
          "text": [
            "CPU times: user 13.3 ms, sys: 1.9 ms, total: 15.2 ms\n",
            "Wall time: 31.3 ms\n"
          ],
          "name": "stdout"
        }
      ]
    },
    {
      "metadata": {
        "id": "n5tdTHslhDaO",
        "colab_type": "code",
        "colab": {}
      },
      "cell_type": "code",
      "source": [
        "x_train_indices = sentences_to_indices(train_url, mod,max_len)\n",
        "x_val_indices = sentences_to_indices(val_url, mod,max_len)"
      ],
      "execution_count": 0,
      "outputs": []
    },
    {
      "metadata": {
        "id": "IU4IxNDThDaR",
        "colab_type": "code",
        "colab": {
          "base_uri": "https://localhost:8080/",
          "height": 34
        },
        "outputId": "401d6dc7-e886-492c-9658-23e0718a4339"
      },
      "cell_type": "code",
      "source": [
        "len(x_train_indices)"
      ],
      "execution_count": 61,
      "outputs": [
        {
          "output_type": "execute_result",
          "data": {
            "text/plain": [
              "35281"
            ]
          },
          "metadata": {
            "tags": []
          },
          "execution_count": 61
        }
      ]
    },
    {
      "metadata": {
        "id": "piuor4hBhDaU",
        "colab_type": "code",
        "colab": {
          "base_uri": "https://localhost:8080/",
          "height": 34
        },
        "outputId": "379dda85-1d21-4973-91aa-c40301abe735"
      },
      "cell_type": "code",
      "source": [
        "len(y_train_ohe)"
      ],
      "execution_count": 62,
      "outputs": [
        {
          "output_type": "execute_result",
          "data": {
            "text/plain": [
              "35281"
            ]
          },
          "metadata": {
            "tags": []
          },
          "execution_count": 62
        }
      ]
    },
    {
      "metadata": {
        "id": "EBNgbueghDaa",
        "colab_type": "code",
        "colab": {
          "base_uri": "https://localhost:8080/",
          "height": 275
        },
        "outputId": "6f70690a-1aad-4330-c80a-ddc394656df8"
      },
      "cell_type": "code",
      "source": [
        "%%time\n",
        "model.fit(x_train_indices, y_train_ohe, epochs = 5, batch_size = 32, shuffle=True)"
      ],
      "execution_count": 63,
      "outputs": [
        {
          "output_type": "stream",
          "text": [
            "WARNING (theano.tensor.blas): We did not find a dynamic library in the library_dir of the library we use for blas. If you use ATLAS, make sure to compile it with dynamics library.\n"
          ],
          "name": "stderr"
        },
        {
          "output_type": "stream",
          "text": [
            "Epoch 1/5\n",
            "35281/35281 [==============================] - 114s 3ms/step - loss: 2.0470 - acc: 0.3254\n",
            "Epoch 2/5\n",
            "35281/35281 [==============================] - 125s 4ms/step - loss: 1.7658 - acc: 0.6059\n",
            "Epoch 3/5\n",
            "35281/35281 [==============================] - 125s 4ms/step - loss: 1.5575 - acc: 0.8143\n",
            "Epoch 4/5\n",
            "35281/35281 [==============================] - 126s 4ms/step - loss: 1.4912 - acc: 0.8813\n",
            "Epoch 5/5\n",
            "35281/35281 [==============================] - 127s 4ms/step - loss: 1.4598 - acc: 0.9132\n",
            "CPU times: user 13min 47s, sys: 6min 25s, total: 20min 12s\n",
            "Wall time: 13min\n"
          ],
          "name": "stdout"
        },
        {
          "output_type": "execute_result",
          "data": {
            "text/plain": [
              "<keras.callbacks.History at 0x7fe8929804e0>"
            ]
          },
          "metadata": {
            "tags": []
          },
          "execution_count": 63
        }
      ]
    },
    {
      "metadata": {
        "id": "jxNw8qS-hDad",
        "colab_type": "code",
        "colab": {}
      },
      "cell_type": "code",
      "source": [
        ""
      ],
      "execution_count": 0,
      "outputs": []
    },
    {
      "metadata": {
        "id": "HCiWfBnKhDai",
        "colab_type": "code",
        "colab": {}
      },
      "cell_type": "code",
      "source": [
        ""
      ],
      "execution_count": 0,
      "outputs": []
    },
    {
      "metadata": {
        "id": "_4aeBaKJhDam",
        "colab_type": "code",
        "colab": {}
      },
      "cell_type": "code",
      "source": [
        ""
      ],
      "execution_count": 0,
      "outputs": []
    },
    {
      "metadata": {
        "id": "EXVyKJ4MhDao",
        "colab_type": "code",
        "colab": {}
      },
      "cell_type": "code",
      "source": [
        ""
      ],
      "execution_count": 0,
      "outputs": []
    },
    {
      "metadata": {
        "id": "0FLHeS3khDav",
        "colab_type": "code",
        "colab": {}
      },
      "cell_type": "code",
      "source": [
        ""
      ],
      "execution_count": 0,
      "outputs": []
    },
    {
      "metadata": {
        "id": "AjAnpLqghDaz",
        "colab_type": "code",
        "colab": {}
      },
      "cell_type": "code",
      "source": [
        ""
      ],
      "execution_count": 0,
      "outputs": []
    },
    {
      "metadata": {
        "id": "a12nuO0IhDa4",
        "colab_type": "code",
        "colab": {}
      },
      "cell_type": "code",
      "source": [
        ""
      ],
      "execution_count": 0,
      "outputs": []
    },
    {
      "metadata": {
        "id": "p2-xOleKhDa8",
        "colab_type": "code",
        "colab": {}
      },
      "cell_type": "code",
      "source": [
        "pred_enc=[]\n",
        "for i in pred:\n",
        "    pred_enc.append(np.argmax(i))"
      ],
      "execution_count": 0,
      "outputs": []
    },
    {
      "metadata": {
        "id": "zV4MWwMNhDa_",
        "colab_type": "code",
        "colab": {}
      },
      "cell_type": "code",
      "source": [
        ""
      ],
      "execution_count": 0,
      "outputs": []
    },
    {
      "metadata": {
        "id": "No46kt-mhDbE",
        "colab_type": "code",
        "colab": {}
      },
      "cell_type": "code",
      "source": [
        ""
      ],
      "execution_count": 0,
      "outputs": []
    },
    {
      "metadata": {
        "id": "WIqdqI67hDbJ",
        "colab_type": "code",
        "colab": {}
      },
      "cell_type": "code",
      "source": [
        ""
      ],
      "execution_count": 0,
      "outputs": []
    },
    {
      "metadata": {
        "id": "0xvOWgoVhDbM",
        "colab_type": "code",
        "colab": {}
      },
      "cell_type": "code",
      "source": [
        ""
      ],
      "execution_count": 0,
      "outputs": []
    },
    {
      "metadata": {
        "id": "H2yUU7TlhDbR",
        "colab_type": "code",
        "colab": {}
      },
      "cell_type": "code",
      "source": [
        ""
      ],
      "execution_count": 0,
      "outputs": []
    }
  ]
}